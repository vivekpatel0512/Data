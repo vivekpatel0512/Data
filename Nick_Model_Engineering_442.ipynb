{
  "cells": [
    {
      "cell_type": "markdown",
      "metadata": {
        "id": "view-in-github",
        "colab_type": "text"
      },
      "source": [
        "<a href=\"https://colab.research.google.com/github/vivekpatel0512/Data/blob/main/Nick_Model_Engineering_442.ipynb\" target=\"_parent\"><img src=\"https://colab.research.google.com/assets/colab-badge.svg\" alt=\"Open In Colab\"/></a>"
      ]
    },
    {
      "cell_type": "code",
      "execution_count": 1,
      "id": "da645ec0",
      "metadata": {
        "colab": {
          "base_uri": "https://localhost:8080/",
          "height": 143
        },
        "id": "da645ec0",
        "outputId": "fd41d06f-f930-4fe3-d4f3-1b287f478cac"
      },
      "outputs": [
        {
          "output_type": "execute_result",
          "data": {
            "text/plain": [
              "\"\\nYOUR TASKS:\\n\\n1. SPECIFY THE URL OR PATH TO YOUR DATA, REMEMBER - YOU FIRST HAVE TO DOWNLOAD IT.\\n2. CLICK RUN ALL OR RESTART AND RUN ALL BUTTON TO RUN THE CODE. THIS CODE RUNS IN A CHRONOLOGICAL MANNER - THE TOP BLOCKS MUST PRECEED THE BOTTOM ONES,\\n                                                                                                            i.e. don't run stuff from the bottom first, otherwise the code won't work properly.\\n3. NEAR THE END OF THE CODE, YOU WILL SEE YOUR EPOCH METRICS, AS I STATED IN CLASS, YOU WANT THE ACCURACY TO APPROACH 100% =1.0 AND THE LOSS TO APPROACH 0\\n4. IN CASE IF YOUR MODEL IS STRUGGLING TO REACH THESE RESULTS AND IS INSTEAD STUCK AT A LOW ACCURACY, NAVIGATE TO THE BLOCK OF CODE WITH HYPERPARAMETERS AND CHANGE THESE NUMBERS,\\nTHEN, TRY RUNNING THE CODE AGAIN AND SEE HOW YOUR MODEL IS PERFORMING; REPEAT UNTIL YOU REACH A PLAUSIBLE RESULT (ONE THAT IS BETTER THAN A COIN TOSS IN TERMS OF PREDICTION ACCURACY IN THE WORST CASE)\\n5. SAVE YOUR RESULTS => THE CODE INCLUDES A BLOCK WHICH WILL SAVE YOUR MODEL TO A .h5 FILE,\\n - KEEP THE OUTPUTS OF THIS NOTEBOOK AS WELL, YOU WILL WANT TO DEMONSTRATE HOW THE TRAINING PROCESS WENT.\\n - BE MINDFUL OF THE TIME YOU HAVE IF YOU CHOOSE TO USE GOOGLE COLLABORATORY INSTEAD OF YOUR OWN MACHINE AS THEIR VMs ONLY OFFER YOU A COUPLE OF HOURS OF USAGE.\\n\""
            ],
            "application/vnd.google.colaboratory.intrinsic+json": {
              "type": "string"
            }
          },
          "metadata": {},
          "execution_count": 1
        }
      ],
      "source": [
        "'''\n",
        "YOUR TASKS:\n",
        "\n",
        "1. SPECIFY THE URL OR PATH TO YOUR DATA, REMEMBER - YOU FIRST HAVE TO DOWNLOAD IT.\n",
        "2. CLICK RUN ALL OR RESTART AND RUN ALL BUTTON TO RUN THE CODE. THIS CODE RUNS IN A CHRONOLOGICAL MANNER - THE TOP BLOCKS MUST PRECEED THE BOTTOM ONES,\n",
        "                                                                                                            i.e. don't run stuff from the bottom first, otherwise the code won't work properly.\n",
        "3. NEAR THE END OF THE CODE, YOU WILL SEE YOUR EPOCH METRICS, AS I STATED IN CLASS, YOU WANT THE ACCURACY TO APPROACH 100% =1.0 AND THE LOSS TO APPROACH 0\n",
        "4. IN CASE IF YOUR MODEL IS STRUGGLING TO REACH THESE RESULTS AND IS INSTEAD STUCK AT A LOW ACCURACY, NAVIGATE TO THE BLOCK OF CODE WITH HYPERPARAMETERS AND CHANGE THESE NUMBERS,\n",
        "THEN, TRY RUNNING THE CODE AGAIN AND SEE HOW YOUR MODEL IS PERFORMING; REPEAT UNTIL YOU REACH A PLAUSIBLE RESULT (ONE THAT IS BETTER THAN A COIN TOSS IN TERMS OF PREDICTION ACCURACY IN THE WORST CASE)\n",
        "5. SAVE YOUR RESULTS => THE CODE INCLUDES A BLOCK WHICH WILL SAVE YOUR MODEL TO A .h5 FILE,\n",
        " - KEEP THE OUTPUTS OF THIS NOTEBOOK AS WELL, YOU WILL WANT TO DEMONSTRATE HOW THE TRAINING PROCESS WENT.\n",
        " - BE MINDFUL OF THE TIME YOU HAVE IF YOU CHOOSE TO USE GOOGLE COLLABORATORY INSTEAD OF YOUR OWN MACHINE AS THEIR VMs ONLY OFFER YOU A COUPLE OF HOURS OF USAGE.\n",
        "'''"
      ]
    },
    {
      "cell_type": "code",
      "execution_count": 2,
      "id": "dd77aa5b",
      "metadata": {
        "id": "dd77aa5b"
      },
      "outputs": [],
      "source": [
        "import numpy as np\n",
        "import pandas as pd\n",
        "import tensorflow as tf\n",
        "from sklearn.model_selection import train_test_split\n",
        "from tensorflow import keras\n",
        "from tensorflow.keras import layers\n",
        "from tensorflow.keras.models import load_model\n",
        "from tensorflow.keras.optimizers import Adam\n",
        "from tensorflow.keras.callbacks import ReduceLROnPlateau, EarlyStopping\n",
        "from sklearn.metrics import confusion_matrix\n",
        "import seaborn as sns\n",
        "from sklearn.preprocessing import LabelEncoder\n",
        "import matplotlib.pyplot as plt\n",
        "import time"
      ]
    },
    {
      "cell_type": "code",
      "execution_count": 3,
      "id": "f16df2f1",
      "metadata": {
        "id": "f16df2f1",
        "colab": {
          "base_uri": "https://localhost:8080/"
        },
        "outputId": "1f34b879-2804-43a4-b15a-5ef01f30d1fc"
      },
      "outputs": [
        {
          "output_type": "stream",
          "name": "stderr",
          "text": [
            "<ipython-input-3-2ce3ff3962ca>:10: DeprecationWarning: In a future version, `df.iloc[:, i] = newvals` will attempt to set the values inplace instead of always setting a new array. To retain the old behavior, use either `df[df.columns[i]] = newvals` or, if columns are non-unique, `df.isetitem(i, newvals)`\n",
            "  data.iloc[:, -1] = label_encoder.fit_transform(data.iloc[:, -1])\n"
          ]
        }
      ],
      "source": [
        "# Function to read the data\n",
        "def read_data(filename):\n",
        "    data = pd.read_csv(filename)\n",
        "\n",
        "    # Extract features\n",
        "    features = data.iloc[:,1 :-1].values\n",
        "\n",
        "    # Extract and encode labels\n",
        "    label_encoder = LabelEncoder()\n",
        "    data.iloc[:, -1] = label_encoder.fit_transform(data.iloc[:, -1])\n",
        "    labels = data.iloc[:, -1].values\n",
        "\n",
        "    return features, labels\n",
        "# Read the data\n",
        "data_url = 'https://raw.githubusercontent.com/vivekpatel0512/Data/main/Nick_DATA.csv'# enter your data URL or PATH here in enclosed in \" \" IF YOUR NOTEBOOK IS IN THE SAME FOLDER AS data.csv, which is your data you downloaded, then this will run as it is.\n",
        "                    # otherwise, you have to specify a different path or url\n",
        "x, y = read_data(data_url)"
      ]
    },
    {
      "cell_type": "code",
      "execution_count": 4,
      "id": "773378f4",
      "metadata": {
        "id": "773378f4"
      },
      "outputs": [],
      "source": [
        "df = pd.read_csv('https://raw.githubusercontent.com/vivekpatel0512/Data/main/Nick_DATA.csv') ## THIS AND THE BLOCK OF CODE IMMEDIATELY AFTER THIS ARE OPTIONAL, THIS IS INTENDED TO HELP YOU VISUALIZE YOUR DATASET"
      ]
    },
    {
      "cell_type": "code",
      "execution_count": 5,
      "id": "c4345daf",
      "metadata": {
        "colab": {
          "base_uri": "https://localhost:8080/",
          "height": 424
        },
        "id": "c4345daf",
        "outputId": "b3c4ca09-a834-44ac-dcdc-78a6f9442b4e"
      },
      "outputs": [
        {
          "output_type": "execute_result",
          "data": {
            "text/plain": [
              "       Time (Seconds)  x-rotation  y-rotation  z-rotation  x-position  \\\n",
              "0            0.000000   63.019417  -10.229511   86.099701    0.571735   \n",
              "1            0.008333   62.902832  -10.056532   86.388710    0.572386   \n",
              "2            0.016667   63.317863   -9.979893   86.330269    0.573037   \n",
              "3            0.025000   63.695614   -9.850446   86.271500    0.573803   \n",
              "4            0.033333   63.730194   -9.706355   86.323013    0.574684   \n",
              "...               ...         ...         ...         ...         ...   \n",
              "80526       30.416667  145.087921  -55.674175 -100.282799   -0.172441   \n",
              "80527       30.425000  146.045181  -54.445637  -98.840073   -0.181653   \n",
              "80528       30.433333  146.942978  -53.169651  -97.511841   -0.190930   \n",
              "80529       30.441667  147.688705  -51.950790  -96.129356   -0.200400   \n",
              "80530       30.450000  148.561905  -50.599716  -94.775688   -0.209782   \n",
              "\n",
              "       y-position  z-position                  label  \n",
              "0        1.182099    0.322281      Sit_VidCall_Phone  \n",
              "1        1.182016    0.322572      Sit_VidCall_Phone  \n",
              "2        1.182032    0.322639      Sit_VidCall_Phone  \n",
              "3        1.182090    0.322761      Sit_VidCall_Phone  \n",
              "4        1.182012    0.323028      Sit_VidCall_Phone  \n",
              "...           ...         ...                    ...  \n",
              "80526    1.190605    0.997431  Walk_WebBrowse_Tablet  \n",
              "80527    1.192085    0.991439  Walk_WebBrowse_Tablet  \n",
              "80528    1.193582    0.985103  Walk_WebBrowse_Tablet  \n",
              "80529    1.194959    0.978348  Walk_WebBrowse_Tablet  \n",
              "80530    1.196456    0.971311  Walk_WebBrowse_Tablet  \n",
              "\n",
              "[80531 rows x 8 columns]"
            ],
            "text/html": [
              "\n",
              "  <div id=\"df-4c4f9282-fb9a-4917-91e2-20b141f88626\" class=\"colab-df-container\">\n",
              "    <div>\n",
              "<style scoped>\n",
              "    .dataframe tbody tr th:only-of-type {\n",
              "        vertical-align: middle;\n",
              "    }\n",
              "\n",
              "    .dataframe tbody tr th {\n",
              "        vertical-align: top;\n",
              "    }\n",
              "\n",
              "    .dataframe thead th {\n",
              "        text-align: right;\n",
              "    }\n",
              "</style>\n",
              "<table border=\"1\" class=\"dataframe\">\n",
              "  <thead>\n",
              "    <tr style=\"text-align: right;\">\n",
              "      <th></th>\n",
              "      <th>Time (Seconds)</th>\n",
              "      <th>x-rotation</th>\n",
              "      <th>y-rotation</th>\n",
              "      <th>z-rotation</th>\n",
              "      <th>x-position</th>\n",
              "      <th>y-position</th>\n",
              "      <th>z-position</th>\n",
              "      <th>label</th>\n",
              "    </tr>\n",
              "  </thead>\n",
              "  <tbody>\n",
              "    <tr>\n",
              "      <th>0</th>\n",
              "      <td>0.000000</td>\n",
              "      <td>63.019417</td>\n",
              "      <td>-10.229511</td>\n",
              "      <td>86.099701</td>\n",
              "      <td>0.571735</td>\n",
              "      <td>1.182099</td>\n",
              "      <td>0.322281</td>\n",
              "      <td>Sit_VidCall_Phone</td>\n",
              "    </tr>\n",
              "    <tr>\n",
              "      <th>1</th>\n",
              "      <td>0.008333</td>\n",
              "      <td>62.902832</td>\n",
              "      <td>-10.056532</td>\n",
              "      <td>86.388710</td>\n",
              "      <td>0.572386</td>\n",
              "      <td>1.182016</td>\n",
              "      <td>0.322572</td>\n",
              "      <td>Sit_VidCall_Phone</td>\n",
              "    </tr>\n",
              "    <tr>\n",
              "      <th>2</th>\n",
              "      <td>0.016667</td>\n",
              "      <td>63.317863</td>\n",
              "      <td>-9.979893</td>\n",
              "      <td>86.330269</td>\n",
              "      <td>0.573037</td>\n",
              "      <td>1.182032</td>\n",
              "      <td>0.322639</td>\n",
              "      <td>Sit_VidCall_Phone</td>\n",
              "    </tr>\n",
              "    <tr>\n",
              "      <th>3</th>\n",
              "      <td>0.025000</td>\n",
              "      <td>63.695614</td>\n",
              "      <td>-9.850446</td>\n",
              "      <td>86.271500</td>\n",
              "      <td>0.573803</td>\n",
              "      <td>1.182090</td>\n",
              "      <td>0.322761</td>\n",
              "      <td>Sit_VidCall_Phone</td>\n",
              "    </tr>\n",
              "    <tr>\n",
              "      <th>4</th>\n",
              "      <td>0.033333</td>\n",
              "      <td>63.730194</td>\n",
              "      <td>-9.706355</td>\n",
              "      <td>86.323013</td>\n",
              "      <td>0.574684</td>\n",
              "      <td>1.182012</td>\n",
              "      <td>0.323028</td>\n",
              "      <td>Sit_VidCall_Phone</td>\n",
              "    </tr>\n",
              "    <tr>\n",
              "      <th>...</th>\n",
              "      <td>...</td>\n",
              "      <td>...</td>\n",
              "      <td>...</td>\n",
              "      <td>...</td>\n",
              "      <td>...</td>\n",
              "      <td>...</td>\n",
              "      <td>...</td>\n",
              "      <td>...</td>\n",
              "    </tr>\n",
              "    <tr>\n",
              "      <th>80526</th>\n",
              "      <td>30.416667</td>\n",
              "      <td>145.087921</td>\n",
              "      <td>-55.674175</td>\n",
              "      <td>-100.282799</td>\n",
              "      <td>-0.172441</td>\n",
              "      <td>1.190605</td>\n",
              "      <td>0.997431</td>\n",
              "      <td>Walk_WebBrowse_Tablet</td>\n",
              "    </tr>\n",
              "    <tr>\n",
              "      <th>80527</th>\n",
              "      <td>30.425000</td>\n",
              "      <td>146.045181</td>\n",
              "      <td>-54.445637</td>\n",
              "      <td>-98.840073</td>\n",
              "      <td>-0.181653</td>\n",
              "      <td>1.192085</td>\n",
              "      <td>0.991439</td>\n",
              "      <td>Walk_WebBrowse_Tablet</td>\n",
              "    </tr>\n",
              "    <tr>\n",
              "      <th>80528</th>\n",
              "      <td>30.433333</td>\n",
              "      <td>146.942978</td>\n",
              "      <td>-53.169651</td>\n",
              "      <td>-97.511841</td>\n",
              "      <td>-0.190930</td>\n",
              "      <td>1.193582</td>\n",
              "      <td>0.985103</td>\n",
              "      <td>Walk_WebBrowse_Tablet</td>\n",
              "    </tr>\n",
              "    <tr>\n",
              "      <th>80529</th>\n",
              "      <td>30.441667</td>\n",
              "      <td>147.688705</td>\n",
              "      <td>-51.950790</td>\n",
              "      <td>-96.129356</td>\n",
              "      <td>-0.200400</td>\n",
              "      <td>1.194959</td>\n",
              "      <td>0.978348</td>\n",
              "      <td>Walk_WebBrowse_Tablet</td>\n",
              "    </tr>\n",
              "    <tr>\n",
              "      <th>80530</th>\n",
              "      <td>30.450000</td>\n",
              "      <td>148.561905</td>\n",
              "      <td>-50.599716</td>\n",
              "      <td>-94.775688</td>\n",
              "      <td>-0.209782</td>\n",
              "      <td>1.196456</td>\n",
              "      <td>0.971311</td>\n",
              "      <td>Walk_WebBrowse_Tablet</td>\n",
              "    </tr>\n",
              "  </tbody>\n",
              "</table>\n",
              "<p>80531 rows × 8 columns</p>\n",
              "</div>\n",
              "    <div class=\"colab-df-buttons\">\n",
              "\n",
              "  <div class=\"colab-df-container\">\n",
              "    <button class=\"colab-df-convert\" onclick=\"convertToInteractive('df-4c4f9282-fb9a-4917-91e2-20b141f88626')\"\n",
              "            title=\"Convert this dataframe to an interactive table.\"\n",
              "            style=\"display:none;\">\n",
              "\n",
              "  <svg xmlns=\"http://www.w3.org/2000/svg\" height=\"24px\" viewBox=\"0 -960 960 960\">\n",
              "    <path d=\"M120-120v-720h720v720H120Zm60-500h600v-160H180v160Zm220 220h160v-160H400v160Zm0 220h160v-160H400v160ZM180-400h160v-160H180v160Zm440 0h160v-160H620v160ZM180-180h160v-160H180v160Zm440 0h160v-160H620v160Z\"/>\n",
              "  </svg>\n",
              "    </button>\n",
              "\n",
              "  <style>\n",
              "    .colab-df-container {\n",
              "      display:flex;\n",
              "      gap: 12px;\n",
              "    }\n",
              "\n",
              "    .colab-df-convert {\n",
              "      background-color: #E8F0FE;\n",
              "      border: none;\n",
              "      border-radius: 50%;\n",
              "      cursor: pointer;\n",
              "      display: none;\n",
              "      fill: #1967D2;\n",
              "      height: 32px;\n",
              "      padding: 0 0 0 0;\n",
              "      width: 32px;\n",
              "    }\n",
              "\n",
              "    .colab-df-convert:hover {\n",
              "      background-color: #E2EBFA;\n",
              "      box-shadow: 0px 1px 2px rgba(60, 64, 67, 0.3), 0px 1px 3px 1px rgba(60, 64, 67, 0.15);\n",
              "      fill: #174EA6;\n",
              "    }\n",
              "\n",
              "    .colab-df-buttons div {\n",
              "      margin-bottom: 4px;\n",
              "    }\n",
              "\n",
              "    [theme=dark] .colab-df-convert {\n",
              "      background-color: #3B4455;\n",
              "      fill: #D2E3FC;\n",
              "    }\n",
              "\n",
              "    [theme=dark] .colab-df-convert:hover {\n",
              "      background-color: #434B5C;\n",
              "      box-shadow: 0px 1px 3px 1px rgba(0, 0, 0, 0.15);\n",
              "      filter: drop-shadow(0px 1px 2px rgba(0, 0, 0, 0.3));\n",
              "      fill: #FFFFFF;\n",
              "    }\n",
              "  </style>\n",
              "\n",
              "    <script>\n",
              "      const buttonEl =\n",
              "        document.querySelector('#df-4c4f9282-fb9a-4917-91e2-20b141f88626 button.colab-df-convert');\n",
              "      buttonEl.style.display =\n",
              "        google.colab.kernel.accessAllowed ? 'block' : 'none';\n",
              "\n",
              "      async function convertToInteractive(key) {\n",
              "        const element = document.querySelector('#df-4c4f9282-fb9a-4917-91e2-20b141f88626');\n",
              "        const dataTable =\n",
              "          await google.colab.kernel.invokeFunction('convertToInteractive',\n",
              "                                                    [key], {});\n",
              "        if (!dataTable) return;\n",
              "\n",
              "        const docLinkHtml = 'Like what you see? Visit the ' +\n",
              "          '<a target=\"_blank\" href=https://colab.research.google.com/notebooks/data_table.ipynb>data table notebook</a>'\n",
              "          + ' to learn more about interactive tables.';\n",
              "        element.innerHTML = '';\n",
              "        dataTable['output_type'] = 'display_data';\n",
              "        await google.colab.output.renderOutput(dataTable, element);\n",
              "        const docLink = document.createElement('div');\n",
              "        docLink.innerHTML = docLinkHtml;\n",
              "        element.appendChild(docLink);\n",
              "      }\n",
              "    </script>\n",
              "  </div>\n",
              "\n",
              "\n",
              "<div id=\"df-54d46fe3-aeff-401f-ba9b-11574b3136b9\">\n",
              "  <button class=\"colab-df-quickchart\" onclick=\"quickchart('df-54d46fe3-aeff-401f-ba9b-11574b3136b9')\"\n",
              "            title=\"Suggest charts\"\n",
              "            style=\"display:none;\">\n",
              "\n",
              "<svg xmlns=\"http://www.w3.org/2000/svg\" height=\"24px\"viewBox=\"0 0 24 24\"\n",
              "     width=\"24px\">\n",
              "    <g>\n",
              "        <path d=\"M19 3H5c-1.1 0-2 .9-2 2v14c0 1.1.9 2 2 2h14c1.1 0 2-.9 2-2V5c0-1.1-.9-2-2-2zM9 17H7v-7h2v7zm4 0h-2V7h2v10zm4 0h-2v-4h2v4z\"/>\n",
              "    </g>\n",
              "</svg>\n",
              "  </button>\n",
              "\n",
              "<style>\n",
              "  .colab-df-quickchart {\n",
              "      --bg-color: #E8F0FE;\n",
              "      --fill-color: #1967D2;\n",
              "      --hover-bg-color: #E2EBFA;\n",
              "      --hover-fill-color: #174EA6;\n",
              "      --disabled-fill-color: #AAA;\n",
              "      --disabled-bg-color: #DDD;\n",
              "  }\n",
              "\n",
              "  [theme=dark] .colab-df-quickchart {\n",
              "      --bg-color: #3B4455;\n",
              "      --fill-color: #D2E3FC;\n",
              "      --hover-bg-color: #434B5C;\n",
              "      --hover-fill-color: #FFFFFF;\n",
              "      --disabled-bg-color: #3B4455;\n",
              "      --disabled-fill-color: #666;\n",
              "  }\n",
              "\n",
              "  .colab-df-quickchart {\n",
              "    background-color: var(--bg-color);\n",
              "    border: none;\n",
              "    border-radius: 50%;\n",
              "    cursor: pointer;\n",
              "    display: none;\n",
              "    fill: var(--fill-color);\n",
              "    height: 32px;\n",
              "    padding: 0;\n",
              "    width: 32px;\n",
              "  }\n",
              "\n",
              "  .colab-df-quickchart:hover {\n",
              "    background-color: var(--hover-bg-color);\n",
              "    box-shadow: 0 1px 2px rgba(60, 64, 67, 0.3), 0 1px 3px 1px rgba(60, 64, 67, 0.15);\n",
              "    fill: var(--button-hover-fill-color);\n",
              "  }\n",
              "\n",
              "  .colab-df-quickchart-complete:disabled,\n",
              "  .colab-df-quickchart-complete:disabled:hover {\n",
              "    background-color: var(--disabled-bg-color);\n",
              "    fill: var(--disabled-fill-color);\n",
              "    box-shadow: none;\n",
              "  }\n",
              "\n",
              "  .colab-df-spinner {\n",
              "    border: 2px solid var(--fill-color);\n",
              "    border-color: transparent;\n",
              "    border-bottom-color: var(--fill-color);\n",
              "    animation:\n",
              "      spin 1s steps(1) infinite;\n",
              "  }\n",
              "\n",
              "  @keyframes spin {\n",
              "    0% {\n",
              "      border-color: transparent;\n",
              "      border-bottom-color: var(--fill-color);\n",
              "      border-left-color: var(--fill-color);\n",
              "    }\n",
              "    20% {\n",
              "      border-color: transparent;\n",
              "      border-left-color: var(--fill-color);\n",
              "      border-top-color: var(--fill-color);\n",
              "    }\n",
              "    30% {\n",
              "      border-color: transparent;\n",
              "      border-left-color: var(--fill-color);\n",
              "      border-top-color: var(--fill-color);\n",
              "      border-right-color: var(--fill-color);\n",
              "    }\n",
              "    40% {\n",
              "      border-color: transparent;\n",
              "      border-right-color: var(--fill-color);\n",
              "      border-top-color: var(--fill-color);\n",
              "    }\n",
              "    60% {\n",
              "      border-color: transparent;\n",
              "      border-right-color: var(--fill-color);\n",
              "    }\n",
              "    80% {\n",
              "      border-color: transparent;\n",
              "      border-right-color: var(--fill-color);\n",
              "      border-bottom-color: var(--fill-color);\n",
              "    }\n",
              "    90% {\n",
              "      border-color: transparent;\n",
              "      border-bottom-color: var(--fill-color);\n",
              "    }\n",
              "  }\n",
              "</style>\n",
              "\n",
              "  <script>\n",
              "    async function quickchart(key) {\n",
              "      const quickchartButtonEl =\n",
              "        document.querySelector('#' + key + ' button');\n",
              "      quickchartButtonEl.disabled = true;  // To prevent multiple clicks.\n",
              "      quickchartButtonEl.classList.add('colab-df-spinner');\n",
              "      try {\n",
              "        const charts = await google.colab.kernel.invokeFunction(\n",
              "            'suggestCharts', [key], {});\n",
              "      } catch (error) {\n",
              "        console.error('Error during call to suggestCharts:', error);\n",
              "      }\n",
              "      quickchartButtonEl.classList.remove('colab-df-spinner');\n",
              "      quickchartButtonEl.classList.add('colab-df-quickchart-complete');\n",
              "    }\n",
              "    (() => {\n",
              "      let quickchartButtonEl =\n",
              "        document.querySelector('#df-54d46fe3-aeff-401f-ba9b-11574b3136b9 button');\n",
              "      quickchartButtonEl.style.display =\n",
              "        google.colab.kernel.accessAllowed ? 'block' : 'none';\n",
              "    })();\n",
              "  </script>\n",
              "</div>\n",
              "\n",
              "  <div id=\"id_a60c887a-c07c-4b1b-ab92-a4866a9e463f\">\n",
              "    <style>\n",
              "      .colab-df-generate {\n",
              "        background-color: #E8F0FE;\n",
              "        border: none;\n",
              "        border-radius: 50%;\n",
              "        cursor: pointer;\n",
              "        display: none;\n",
              "        fill: #1967D2;\n",
              "        height: 32px;\n",
              "        padding: 0 0 0 0;\n",
              "        width: 32px;\n",
              "      }\n",
              "\n",
              "      .colab-df-generate:hover {\n",
              "        background-color: #E2EBFA;\n",
              "        box-shadow: 0px 1px 2px rgba(60, 64, 67, 0.3), 0px 1px 3px 1px rgba(60, 64, 67, 0.15);\n",
              "        fill: #174EA6;\n",
              "      }\n",
              "\n",
              "      [theme=dark] .colab-df-generate {\n",
              "        background-color: #3B4455;\n",
              "        fill: #D2E3FC;\n",
              "      }\n",
              "\n",
              "      [theme=dark] .colab-df-generate:hover {\n",
              "        background-color: #434B5C;\n",
              "        box-shadow: 0px 1px 3px 1px rgba(0, 0, 0, 0.15);\n",
              "        filter: drop-shadow(0px 1px 2px rgba(0, 0, 0, 0.3));\n",
              "        fill: #FFFFFF;\n",
              "      }\n",
              "    </style>\n",
              "    <button class=\"colab-df-generate\" onclick=\"generateWithVariable('df')\"\n",
              "            title=\"Generate code using this dataframe.\"\n",
              "            style=\"display:none;\">\n",
              "\n",
              "  <svg xmlns=\"http://www.w3.org/2000/svg\" height=\"24px\"viewBox=\"0 0 24 24\"\n",
              "       width=\"24px\">\n",
              "    <path d=\"M7,19H8.4L18.45,9,17,7.55,7,17.6ZM5,21V16.75L18.45,3.32a2,2,0,0,1,2.83,0l1.4,1.43a1.91,1.91,0,0,1,.58,1.4,1.91,1.91,0,0,1-.58,1.4L9.25,21ZM18.45,9,17,7.55Zm-12,3A5.31,5.31,0,0,0,4.9,8.1,5.31,5.31,0,0,0,1,6.5,5.31,5.31,0,0,0,4.9,4.9,5.31,5.31,0,0,0,6.5,1,5.31,5.31,0,0,0,8.1,4.9,5.31,5.31,0,0,0,12,6.5,5.46,5.46,0,0,0,6.5,12Z\"/>\n",
              "  </svg>\n",
              "    </button>\n",
              "    <script>\n",
              "      (() => {\n",
              "      const buttonEl =\n",
              "        document.querySelector('#id_a60c887a-c07c-4b1b-ab92-a4866a9e463f button.colab-df-generate');\n",
              "      buttonEl.style.display =\n",
              "        google.colab.kernel.accessAllowed ? 'block' : 'none';\n",
              "\n",
              "      buttonEl.onclick = () => {\n",
              "        google.colab.notebook.generateWithVariable('df');\n",
              "      }\n",
              "      })();\n",
              "    </script>\n",
              "  </div>\n",
              "\n",
              "    </div>\n",
              "  </div>\n"
            ]
          },
          "metadata": {},
          "execution_count": 5
        }
      ],
      "source": [
        "df # AS STATED ABOVE, YOU MAY REMOVE THIS AND THE ABOVE BLOCKS OF CODE IF YOU LIKE, THIS WILL HAVE NO"
      ]
    },
    {
      "cell_type": "code",
      "execution_count": 6,
      "id": "3eb86201",
      "metadata": {
        "colab": {
          "base_uri": "https://localhost:8080/"
        },
        "id": "3eb86201",
        "outputId": "20515980-4049-43ca-d35e-86f50eddb782"
      },
      "outputs": [
        {
          "output_type": "execute_result",
          "data": {
            "text/plain": [
              "(80531, 6)"
            ]
          },
          "metadata": {},
          "execution_count": 6
        }
      ],
      "source": [
        "x.shape ### IN THE FOLLOWING PARTS OF THE CODE, MAKE SURE THAT EVERYTING IS LOADED CORRECTLY, YOU SHOULD HAVE A DATASET WITH 22 CLASSES, (n-rows, 6 columns, later another dimension will be added here)"
      ]
    },
    {
      "cell_type": "code",
      "execution_count": 7,
      "id": "6b640bf8",
      "metadata": {
        "colab": {
          "base_uri": "https://localhost:8080/"
        },
        "id": "6b640bf8",
        "outputId": "dd40d352-7718-4af1-ecaa-4049fa4622ce"
      },
      "outputs": [
        {
          "output_type": "execute_result",
          "data": {
            "text/plain": [
              "(80531,)"
            ]
          },
          "metadata": {},
          "execution_count": 7
        }
      ],
      "source": [
        "y.shape"
      ]
    },
    {
      "cell_type": "code",
      "execution_count": 8,
      "id": "9650592c",
      "metadata": {
        "colab": {
          "base_uri": "https://localhost:8080/"
        },
        "id": "9650592c",
        "outputId": "d2cfbbe2-0d7e-47a0-f1c8-4889344edde0"
      },
      "outputs": [
        {
          "output_type": "execute_result",
          "data": {
            "text/plain": [
              "array([ 0,  1,  2,  3,  4,  5,  6,  7,  8,  9, 10, 11, 12, 13, 14, 15, 16,\n",
              "       17, 18, 19, 20, 21])"
            ]
          },
          "metadata": {},
          "execution_count": 8
        }
      ],
      "source": [
        "np.unique(y)"
      ]
    },
    {
      "cell_type": "code",
      "execution_count": 9,
      "id": "0edc69b6",
      "metadata": {
        "colab": {
          "base_uri": "https://localhost:8080/"
        },
        "id": "0edc69b6",
        "outputId": "534607c4-07f7-4233-e84f-38105062a04c"
      },
      "outputs": [
        {
          "output_type": "execute_result",
          "data": {
            "text/plain": [
              "array([ 63.019417, -10.229511,  86.099701,   0.571735,   1.182099,\n",
              "         0.322281])"
            ]
          },
          "metadata": {},
          "execution_count": 9
        }
      ],
      "source": [
        "x[0]"
      ]
    },
    {
      "cell_type": "code",
      "execution_count": 10,
      "id": "b4eec323",
      "metadata": {
        "colab": {
          "base_uri": "https://localhost:8080/"
        },
        "id": "b4eec323",
        "outputId": "359835b9-b20e-4e75-da45-dd4293455c14"
      },
      "outputs": [
        {
          "output_type": "execute_result",
          "data": {
            "text/plain": [
              "0"
            ]
          },
          "metadata": {},
          "execution_count": 10
        }
      ],
      "source": [
        "y[0] # these were sample rows from the data for your to inspect, you should see a 6 by 1 vector above and a single value here"
      ]
    },
    {
      "cell_type": "code",
      "execution_count": 11,
      "id": "9db6440b",
      "metadata": {
        "id": "9db6440b"
      },
      "outputs": [],
      "source": [
        "# Split the data into training, validation, and testing sets\n",
        "x_train, x_test, y_train, y_test = train_test_split(x, y, test_size=0.1, random_state=42)\n",
        "x_train, x_val, y_train, y_val = train_test_split(x_train, y_train, test_size=0.2, random_state=42)"
      ]
    },
    {
      "cell_type": "code",
      "execution_count": 12,
      "id": "0b135163",
      "metadata": {
        "id": "0b135163"
      },
      "outputs": [],
      "source": [
        "# Reshape the data\n",
        "x_train = x_train.reshape((x_train.shape[0], x_train.shape[1], 1))\n",
        "x_val = x_val.reshape((x_val.shape[0], x_val.shape[1], 1))\n",
        "x_test = x_test.reshape((x_test.shape[0], x_test.shape[1], 1))"
      ]
    },
    {
      "cell_type": "code",
      "execution_count": 13,
      "id": "936243fe",
      "metadata": {
        "id": "936243fe"
      },
      "outputs": [],
      "source": [
        "# Determine the input shape and number of classes\n",
        "input_shape = (x_train.shape[1], 1)\n",
        "num_classes = len(np.unique(y))"
      ]
    },
    {
      "cell_type": "code",
      "execution_count": 14,
      "id": "4cb2989e",
      "metadata": {
        "colab": {
          "base_uri": "https://localhost:8080/"
        },
        "id": "4cb2989e",
        "outputId": "06117bd8-7feb-4eae-b3e6-e28caf7717ec"
      },
      "outputs": [
        {
          "output_type": "execute_result",
          "data": {
            "text/plain": [
              "22"
            ]
          },
          "metadata": {},
          "execution_count": 14
        }
      ],
      "source": [
        "num_classes # must have 22"
      ]
    },
    {
      "cell_type": "code",
      "execution_count": 15,
      "id": "26c6890e",
      "metadata": {
        "colab": {
          "base_uri": "https://localhost:8080/"
        },
        "id": "26c6890e",
        "outputId": "50799c4d-4c09-466d-82c8-bc3fb18523f9"
      },
      "outputs": [
        {
          "output_type": "execute_result",
          "data": {
            "text/plain": [
              "(6, 1)"
            ]
          },
          "metadata": {},
          "execution_count": 15
        }
      ],
      "source": [
        "input_shape"
      ]
    },
    {
      "cell_type": "code",
      "execution_count": 16,
      "id": "859aa647",
      "metadata": {
        "colab": {
          "base_uri": "https://localhost:8080/"
        },
        "id": "859aa647",
        "outputId": "1dd9a1fd-6cd0-4209-f517-352584924aa6"
      },
      "outputs": [
        {
          "output_type": "execute_result",
          "data": {
            "text/plain": [
              "(57981, 6, 1)"
            ]
          },
          "metadata": {},
          "execution_count": 16
        }
      ],
      "source": [
        "x_train.shape"
      ]
    },
    {
      "cell_type": "code",
      "execution_count": 17,
      "id": "eab565dd",
      "metadata": {
        "colab": {
          "base_uri": "https://localhost:8080/"
        },
        "id": "eab565dd",
        "outputId": "7be1da75-e530-4074-9384-ca301f80007f"
      },
      "outputs": [
        {
          "output_type": "execute_result",
          "data": {
            "text/plain": [
              "(57981,)"
            ]
          },
          "metadata": {},
          "execution_count": 17
        }
      ],
      "source": [
        "y_train.shape"
      ]
    },
    {
      "cell_type": "code",
      "execution_count": 18,
      "id": "ab950213",
      "metadata": {
        "colab": {
          "base_uri": "https://localhost:8080/"
        },
        "id": "ab950213",
        "outputId": "20ba8182-6c31-41eb-ff7f-c5bda5e61f57"
      },
      "outputs": [
        {
          "output_type": "execute_result",
          "data": {
            "text/plain": [
              "array([[ 4.87041600e+00],\n",
              "       [-7.99385200e+00],\n",
              "       [ 1.03878944e+02],\n",
              "       [ 9.08480000e-01],\n",
              "       [ 1.20282400e+00],\n",
              "       [ 4.55020000e-02]])"
            ]
          },
          "metadata": {},
          "execution_count": 18
        }
      ],
      "source": [
        "x_train[0]"
      ]
    },
    {
      "cell_type": "code",
      "execution_count": 19,
      "id": "7f11432f",
      "metadata": {
        "colab": {
          "base_uri": "https://localhost:8080/"
        },
        "id": "7f11432f",
        "outputId": "270a06ad-8076-443d-bf90-997c4c2ce0c0"
      },
      "outputs": [
        {
          "output_type": "execute_result",
          "data": {
            "text/plain": [
              "15"
            ]
          },
          "metadata": {},
          "execution_count": 19
        }
      ],
      "source": [
        "y_train[0]"
      ]
    },
    {
      "cell_type": "code",
      "execution_count": 20,
      "id": "cd51204b",
      "metadata": {
        "id": "cd51204b"
      },
      "outputs": [],
      "source": [
        "# Transformer Encoder function with dropout and L2 regularization\n",
        "def transformer_encoder(inputs, head_size, num_heads, ff_dim, dropout=0.1, l2_reg=0.01):\n",
        "\n",
        "    x = layers.MultiHeadAttention(key_dim=head_size, num_heads=num_heads, dropout=dropout)(inputs, inputs)\n",
        "    x = layers.Dropout(dropout)(x)\n",
        "    x = layers.LayerNormalization(epsilon=1e-6)(x)\n",
        "    res = x + inputs\n",
        "\n",
        "    # Feed-forward network with dropout and L2 regularization\n",
        "    x = layers.Dense(ff_dim, activation=\"relu\", kernel_regularizer=keras.regularizers.l2(l2_reg))(res)\n",
        "    x = layers.Dropout(dropout)(x)\n",
        "\n",
        "    x = layers.Dense(ff_dim, activation=\"relu\", kernel_regularizer=keras.regularizers.l2(l2_reg))(x)\n",
        "    x = layers.Dropout(dropout)(x)\n",
        "\n",
        "\n",
        "\n",
        "    x = layers.Dense(ff_dim, activation=\"relu\", kernel_regularizer=keras.regularizers.l2(l2_reg))(x)\n",
        "    x = layers.Dropout(dropout)(x)\n",
        "\n",
        "    x = layers.Dense(inputs.shape[-1], activation = 'softmax')(x)\n",
        "    x = layers.LayerNormalization(epsilon=1e-6)(x)\n",
        "\n",
        "    return x + res"
      ]
    },
    {
      "cell_type": "code",
      "execution_count": 21,
      "id": "9df843aa",
      "metadata": {
        "id": "9df843aa"
      },
      "outputs": [],
      "source": [
        "# Transformer Decoder function\n",
        "def transformer_decoder(inputs, enc_outputs, head_size, num_heads, ff_dim, dropout=0.1, l2_reg=0.01):\n",
        "    x = layers.MultiHeadAttention(key_dim=head_size, num_heads=num_heads, dropout=dropout)(inputs, inputs)\n",
        "    x = layers.Dropout(dropout)(x)\n",
        "    x = layers.LayerNormalization(epsilon=1e-6)(x)\n",
        "    res = x + inputs\n",
        "\n",
        "    x = layers.MultiHeadAttention(key_dim=head_size, num_heads=num_heads, dropout=dropout)(res, enc_outputs)\n",
        "    x = layers.Dropout(dropout)(x)\n",
        "    x = layers.LayerNormalization(epsilon=1e-6)(x)\n",
        "    x = x + res\n",
        "\n",
        "    # Feed-forward network\n",
        "    x = layers.Dense(ff_dim, activation=\"relu\", kernel_regularizer=keras.regularizers.l2(l2_reg))(x)\n",
        "    x = layers.Dropout(dropout)(x)\n",
        "\n",
        "    x = layers.Dense(ff_dim, activation=\"relu\", kernel_regularizer=keras.regularizers.l2(l2_reg))(x)\n",
        "    x = layers.Dropout(dropout)(x)\n",
        "\n",
        "    '''\n",
        "    YOU MAY WANT TO ADD OR REMOVE THESE TWO LINES HERE PRECISELY IN THIS PART OF THE CODE, PAY ATTENTION TO THE INDENTATION, PYTHON REQUIRES CONSISTENCY IN ORDER FOR THE CODE TO RUN CORRECTLY\n",
        "    x = layers.Dense(ff_dim, activation=\"relu\", kernel_regularizer=keras.regularizers.l2(l2_reg))(x)\n",
        "    x = layers.Dropout(dropout)(x)\n",
        "\n",
        "    '''\n",
        "\n",
        "    x = layers.Dense(ff_dim, activation=\"relu\", kernel_regularizer=keras.regularizers.l2(l2_reg))(x)\n",
        "    x = layers.Dropout(dropout)(x)\n",
        "\n",
        "    x = layers.Dense(inputs.shape[-1], activation = 'softmax')(x)\n",
        "    x = layers.LayerNormalization(epsilon=1e-6)(x)\n",
        "\n",
        "    return x + res\n"
      ]
    },
    {
      "cell_type": "code",
      "execution_count": 22,
      "id": "d9851305",
      "metadata": {
        "id": "d9851305"
      },
      "outputs": [],
      "source": [
        "# Build the model\n",
        "def build_model(input_shape, head_size, num_heads, ff_dim, num_transformer_blocks, mlp_units, dropout=0, mlp_dropout=0, l2_reg=0):\n",
        "    inputs = keras.Input(shape=input_shape)\n",
        "    x = inputs\n",
        "\n",
        "    # Encoder\n",
        "    for _ in range(num_transformer_blocks):\n",
        "        x = transformer_encoder(x, head_size, num_heads, ff_dim, dropout, l2_reg)\n",
        "\n",
        "\n",
        "    # Decoder\n",
        "    decoder_input = keras.Input(shape=input_shape)\n",
        "    dec = decoder_input\n",
        "    for _ in range(num_transformer_blocks):\n",
        "        dec = transformer_decoder(dec, x, head_size, num_heads, ff_dim, dropout, l2_reg)\n",
        "\n",
        "    x = layers.Flatten()(x)\n",
        "    dec = layers.Flatten()(dec)\n",
        "    x = layers.Concatenate()([x, dec])\n",
        "\n",
        "    for dim in mlp_units:\n",
        "        x = layers.Dense(dim, activation=\"relu\")(x)\n",
        "        x = layers.Dropout(mlp_dropout)(x)\n",
        "\n",
        "    outputs = layers.Dense(num_classes, activation=\"softmax\")(x)\n",
        "\n",
        "    model = keras.Model([inputs, decoder_input], outputs)\n",
        "    return model"
      ]
    },
    {
      "cell_type": "code",
      "execution_count": 23,
      "id": "1d648db6",
      "metadata": {
        "id": "1d648db6"
      },
      "outputs": [],
      "source": [
        "# Define the hyperparameters\n",
        "\"\"\"\n",
        "# THIS IS THE PART YOU SHOULD PLAY AROUND WITH\n",
        "# YOU MAY REDUCE THESE NUMBERS IF YOUR MACHINE IS OTHERWISE INCAPABLE OF RUNNING THE CODE\"\"\"\n",
        "\n",
        "head_size = 4\n",
        "num_heads = 4\n",
        "ff_dim = 256\n",
        "num_transformer_blocks = 4\n",
        "mlp_units = [256]\n",
        "dropout = 0.1\n",
        "mlp_dropout = 0.1\n",
        "initial_lr = 0.001\n",
        "l2_reg=0.01"
      ]
    },
    {
      "cell_type": "code",
      "execution_count": 24,
      "id": "6c794103",
      "metadata": {
        "id": "6c794103"
      },
      "outputs": [],
      "source": [
        "# Build the model\n",
        "model = build_model(input_shape, head_size, num_heads, ff_dim, num_transformer_blocks, mlp_units, dropout, mlp_dropout)"
      ]
    },
    {
      "cell_type": "code",
      "execution_count": 25,
      "id": "64e4c3ef",
      "metadata": {
        "id": "64e4c3ef"
      },
      "outputs": [],
      "source": [
        "# Create the optimizer with the initial learning rate\n",
        "optimizer = Adam(learning_rate=initial_lr)"
      ]
    },
    {
      "cell_type": "code",
      "execution_count": 26,
      "id": "0e19e795",
      "metadata": {
        "id": "0e19e795"
      },
      "outputs": [],
      "source": [
        "# Compile the model\n",
        "model.compile(optimizer=optimizer, loss=\"sparse_categorical_crossentropy\", metrics=[\"accuracy\"])"
      ]
    },
    {
      "cell_type": "code",
      "execution_count": 27,
      "id": "02a51f0f",
      "metadata": {
        "id": "02a51f0f"
      },
      "outputs": [],
      "source": [
        "# Create the ReduceLROnPlateau callback\n",
        "lr_callback = ReduceLROnPlateau(factor=0.1, patience=50)"
      ]
    },
    {
      "cell_type": "code",
      "execution_count": 28,
      "id": "511f6219",
      "metadata": {
        "id": "511f6219"
      },
      "outputs": [],
      "source": [
        "# Record the start time\n",
        "start_time = time.time()"
      ]
    },
    {
      "cell_type": "code",
      "execution_count": 29,
      "id": "19d80153",
      "metadata": {
        "colab": {
          "base_uri": "https://localhost:8080/"
        },
        "id": "19d80153",
        "outputId": "bb8fca06-9b06-42f1-b9e2-9d97c8d9a9e5"
      },
      "outputs": [
        {
          "output_type": "stream",
          "name": "stdout",
          "text": [
            "Epoch 1/100\n",
            "906/906 [==============================] - 94s 63ms/step - loss: 1.7847 - accuracy: 0.6376 - val_loss: 0.4337 - val_accuracy: 0.8500 - lr: 0.0010\n",
            "Epoch 2/100\n",
            "906/906 [==============================] - 57s 62ms/step - loss: 0.4753 - accuracy: 0.8359 - val_loss: 0.2763 - val_accuracy: 0.9054 - lr: 0.0010\n",
            "Epoch 3/100\n",
            "906/906 [==============================] - 57s 63ms/step - loss: 0.3114 - accuracy: 0.8854 - val_loss: 0.2277 - val_accuracy: 0.9247 - lr: 0.0010\n",
            "Epoch 4/100\n",
            "906/906 [==============================] - 56s 62ms/step - loss: 0.2465 - accuracy: 0.9073 - val_loss: 0.1837 - val_accuracy: 0.9362 - lr: 0.0010\n",
            "Epoch 5/100\n",
            "906/906 [==============================] - 57s 63ms/step - loss: 0.2170 - accuracy: 0.9172 - val_loss: 0.1676 - val_accuracy: 0.9348 - lr: 0.0010\n",
            "Epoch 6/100\n",
            "906/906 [==============================] - 56s 62ms/step - loss: 0.1968 - accuracy: 0.9243 - val_loss: 0.1598 - val_accuracy: 0.9322 - lr: 0.0010\n",
            "Epoch 7/100\n",
            "906/906 [==============================] - 55s 61ms/step - loss: 0.1831 - accuracy: 0.9289 - val_loss: 0.1421 - val_accuracy: 0.9518 - lr: 0.0010\n",
            "Epoch 8/100\n",
            "906/906 [==============================] - 55s 60ms/step - loss: 0.1669 - accuracy: 0.9368 - val_loss: 0.1757 - val_accuracy: 0.9280 - lr: 0.0010\n",
            "Epoch 9/100\n",
            "906/906 [==============================] - 55s 60ms/step - loss: 0.1553 - accuracy: 0.9403 - val_loss: 0.1213 - val_accuracy: 0.9562 - lr: 0.0010\n",
            "Epoch 10/100\n",
            "906/906 [==============================] - 53s 59ms/step - loss: 0.1456 - accuracy: 0.9442 - val_loss: 0.1319 - val_accuracy: 0.9487 - lr: 0.0010\n",
            "Epoch 11/100\n",
            "906/906 [==============================] - 55s 61ms/step - loss: 0.1383 - accuracy: 0.9481 - val_loss: 0.1366 - val_accuracy: 0.9432 - lr: 0.0010\n",
            "Epoch 12/100\n",
            "906/906 [==============================] - 54s 59ms/step - loss: 0.1411 - accuracy: 0.9473 - val_loss: 0.0979 - val_accuracy: 0.9679 - lr: 0.0010\n",
            "Epoch 13/100\n",
            "906/906 [==============================] - 57s 63ms/step - loss: 0.1298 - accuracy: 0.9509 - val_loss: 0.1015 - val_accuracy: 0.9698 - lr: 0.0010\n",
            "Epoch 14/100\n",
            "906/906 [==============================] - 54s 60ms/step - loss: 0.1276 - accuracy: 0.9507 - val_loss: 0.1292 - val_accuracy: 0.9540 - lr: 0.0010\n",
            "Epoch 15/100\n",
            "906/906 [==============================] - 55s 61ms/step - loss: 0.1267 - accuracy: 0.9523 - val_loss: 0.0917 - val_accuracy: 0.9654 - lr: 0.0010\n",
            "Epoch 16/100\n",
            "906/906 [==============================] - 55s 61ms/step - loss: 0.1156 - accuracy: 0.9554 - val_loss: 0.0833 - val_accuracy: 0.9732 - lr: 0.0010\n",
            "Epoch 17/100\n",
            "906/906 [==============================] - 56s 62ms/step - loss: 0.1169 - accuracy: 0.9562 - val_loss: 0.0961 - val_accuracy: 0.9688 - lr: 0.0010\n",
            "Epoch 18/100\n",
            "906/906 [==============================] - 55s 60ms/step - loss: 0.1169 - accuracy: 0.9555 - val_loss: 0.0865 - val_accuracy: 0.9693 - lr: 0.0010\n",
            "Epoch 19/100\n",
            "906/906 [==============================] - 55s 60ms/step - loss: 0.1176 - accuracy: 0.9556 - val_loss: 0.0919 - val_accuracy: 0.9638 - lr: 0.0010\n",
            "Epoch 20/100\n",
            "906/906 [==============================] - 55s 61ms/step - loss: 0.1126 - accuracy: 0.9575 - val_loss: 0.1029 - val_accuracy: 0.9547 - lr: 0.0010\n",
            "Epoch 21/100\n",
            "906/906 [==============================] - 54s 59ms/step - loss: 0.1101 - accuracy: 0.9574 - val_loss: 0.0882 - val_accuracy: 0.9672 - lr: 0.0010\n",
            "Epoch 22/100\n",
            "906/906 [==============================] - 55s 61ms/step - loss: 0.1151 - accuracy: 0.9569 - val_loss: 0.0984 - val_accuracy: 0.9597 - lr: 0.0010\n",
            "Epoch 23/100\n",
            "906/906 [==============================] - 56s 61ms/step - loss: 0.1013 - accuracy: 0.9626 - val_loss: 0.0742 - val_accuracy: 0.9683 - lr: 0.0010\n",
            "Epoch 24/100\n",
            "906/906 [==============================] - 56s 62ms/step - loss: 0.1051 - accuracy: 0.9613 - val_loss: 0.1085 - val_accuracy: 0.9601 - lr: 0.0010\n",
            "Epoch 25/100\n",
            "906/906 [==============================] - 54s 60ms/step - loss: 0.1109 - accuracy: 0.9592 - val_loss: 0.1753 - val_accuracy: 0.9440 - lr: 0.0010\n",
            "Epoch 26/100\n",
            "906/906 [==============================] - 56s 62ms/step - loss: 0.1103 - accuracy: 0.9586 - val_loss: 0.1173 - val_accuracy: 0.9498 - lr: 0.0010\n",
            "Epoch 27/100\n",
            "906/906 [==============================] - 54s 60ms/step - loss: 0.0979 - accuracy: 0.9637 - val_loss: 0.0904 - val_accuracy: 0.9648 - lr: 0.0010\n",
            "Epoch 28/100\n",
            "906/906 [==============================] - 55s 61ms/step - loss: 0.1037 - accuracy: 0.9614 - val_loss: 0.0693 - val_accuracy: 0.9732 - lr: 0.0010\n",
            "Epoch 29/100\n",
            "906/906 [==============================] - 53s 59ms/step - loss: 0.1035 - accuracy: 0.9621 - val_loss: 0.0665 - val_accuracy: 0.9769 - lr: 0.0010\n",
            "Epoch 30/100\n",
            "906/906 [==============================] - 54s 60ms/step - loss: 0.1028 - accuracy: 0.9614 - val_loss: 0.0730 - val_accuracy: 0.9749 - lr: 0.0010\n",
            "Epoch 31/100\n",
            "906/906 [==============================] - 53s 59ms/step - loss: 0.1052 - accuracy: 0.9616 - val_loss: 0.0787 - val_accuracy: 0.9717 - lr: 0.0010\n",
            "Epoch 32/100\n",
            "906/906 [==============================] - 55s 60ms/step - loss: 0.0970 - accuracy: 0.9646 - val_loss: 0.0800 - val_accuracy: 0.9677 - lr: 0.0010\n",
            "Epoch 33/100\n",
            "906/906 [==============================] - 54s 60ms/step - loss: 0.1004 - accuracy: 0.9636 - val_loss: 0.0743 - val_accuracy: 0.9676 - lr: 0.0010\n",
            "Epoch 34/100\n",
            "906/906 [==============================] - 59s 65ms/step - loss: 0.0993 - accuracy: 0.9634 - val_loss: 0.0683 - val_accuracy: 0.9757 - lr: 0.0010\n",
            "Epoch 35/100\n",
            "906/906 [==============================] - 56s 62ms/step - loss: 0.0943 - accuracy: 0.9654 - val_loss: 0.0788 - val_accuracy: 0.9678 - lr: 0.0010\n",
            "Epoch 36/100\n",
            "906/906 [==============================] - 56s 62ms/step - loss: 0.0969 - accuracy: 0.9647 - val_loss: 0.0675 - val_accuracy: 0.9774 - lr: 0.0010\n",
            "Epoch 37/100\n",
            "906/906 [==============================] - 55s 61ms/step - loss: 0.0943 - accuracy: 0.9652 - val_loss: 0.0678 - val_accuracy: 0.9749 - lr: 0.0010\n",
            "Epoch 38/100\n",
            "906/906 [==============================] - 56s 62ms/step - loss: 0.0978 - accuracy: 0.9643 - val_loss: 0.0715 - val_accuracy: 0.9730 - lr: 0.0010\n",
            "Epoch 39/100\n",
            "906/906 [==============================] - 55s 61ms/step - loss: 0.0923 - accuracy: 0.9661 - val_loss: 0.0679 - val_accuracy: 0.9743 - lr: 0.0010\n",
            "Epoch 40/100\n",
            "906/906 [==============================] - 54s 59ms/step - loss: 0.0924 - accuracy: 0.9664 - val_loss: 0.0662 - val_accuracy: 0.9760 - lr: 0.0010\n",
            "Epoch 41/100\n",
            "906/906 [==============================] - 56s 62ms/step - loss: 0.0964 - accuracy: 0.9660 - val_loss: 0.1189 - val_accuracy: 0.9611 - lr: 0.0010\n",
            "Epoch 42/100\n",
            "906/906 [==============================] - 56s 62ms/step - loss: 0.0914 - accuracy: 0.9672 - val_loss: 0.1035 - val_accuracy: 0.9628 - lr: 0.0010\n",
            "Epoch 43/100\n",
            "906/906 [==============================] - 55s 60ms/step - loss: 0.0947 - accuracy: 0.9653 - val_loss: 0.0759 - val_accuracy: 0.9796 - lr: 0.0010\n",
            "Epoch 44/100\n",
            "906/906 [==============================] - 57s 63ms/step - loss: 0.0915 - accuracy: 0.9673 - val_loss: 0.0589 - val_accuracy: 0.9836 - lr: 0.0010\n",
            "Epoch 45/100\n",
            "906/906 [==============================] - 56s 61ms/step - loss: 0.0933 - accuracy: 0.9667 - val_loss: 0.0627 - val_accuracy: 0.9768 - lr: 0.0010\n",
            "Epoch 46/100\n",
            "906/906 [==============================] - 55s 61ms/step - loss: 0.0867 - accuracy: 0.9696 - val_loss: 0.0636 - val_accuracy: 0.9750 - lr: 0.0010\n",
            "Epoch 47/100\n",
            "906/906 [==============================] - 56s 61ms/step - loss: 0.0912 - accuracy: 0.9667 - val_loss: 0.0673 - val_accuracy: 0.9732 - lr: 0.0010\n",
            "Epoch 48/100\n",
            "906/906 [==============================] - 56s 62ms/step - loss: 0.0876 - accuracy: 0.9680 - val_loss: 0.0574 - val_accuracy: 0.9801 - lr: 0.0010\n",
            "Epoch 49/100\n",
            "906/906 [==============================] - 55s 61ms/step - loss: 0.0930 - accuracy: 0.9669 - val_loss: 0.0596 - val_accuracy: 0.9801 - lr: 0.0010\n",
            "Epoch 50/100\n",
            "906/906 [==============================] - 55s 61ms/step - loss: 0.0917 - accuracy: 0.9675 - val_loss: 0.0743 - val_accuracy: 0.9701 - lr: 0.0010\n",
            "Epoch 51/100\n",
            "906/906 [==============================] - 56s 61ms/step - loss: 0.0899 - accuracy: 0.9677 - val_loss: 0.0835 - val_accuracy: 0.9687 - lr: 0.0010\n",
            "Epoch 52/100\n",
            "906/906 [==============================] - 55s 60ms/step - loss: 0.0901 - accuracy: 0.9677 - val_loss: 0.0701 - val_accuracy: 0.9770 - lr: 0.0010\n",
            "Epoch 53/100\n",
            "906/906 [==============================] - 55s 61ms/step - loss: 0.0943 - accuracy: 0.9659 - val_loss: 0.0690 - val_accuracy: 0.9701 - lr: 0.0010\n",
            "Epoch 54/100\n",
            "906/906 [==============================] - 55s 61ms/step - loss: 0.0891 - accuracy: 0.9679 - val_loss: 0.0664 - val_accuracy: 0.9741 - lr: 0.0010\n",
            "Epoch 55/100\n",
            "906/906 [==============================] - 55s 61ms/step - loss: 0.0887 - accuracy: 0.9682 - val_loss: 0.0583 - val_accuracy: 0.9821 - lr: 0.0010\n",
            "Epoch 56/100\n",
            "906/906 [==============================] - 55s 61ms/step - loss: 0.0892 - accuracy: 0.9673 - val_loss: 0.0653 - val_accuracy: 0.9770 - lr: 0.0010\n",
            "Epoch 57/100\n",
            "906/906 [==============================] - 56s 62ms/step - loss: 0.0910 - accuracy: 0.9666 - val_loss: 0.0631 - val_accuracy: 0.9789 - lr: 0.0010\n",
            "Epoch 58/100\n",
            "906/906 [==============================] - 55s 61ms/step - loss: 0.0849 - accuracy: 0.9702 - val_loss: 0.0564 - val_accuracy: 0.9807 - lr: 0.0010\n",
            "Epoch 59/100\n",
            "906/906 [==============================] - 55s 61ms/step - loss: 0.0876 - accuracy: 0.9689 - val_loss: 0.0983 - val_accuracy: 0.9703 - lr: 0.0010\n",
            "Epoch 60/100\n",
            "906/906 [==============================] - 54s 60ms/step - loss: 0.0929 - accuracy: 0.9675 - val_loss: 0.0615 - val_accuracy: 0.9784 - lr: 0.0010\n",
            "Epoch 61/100\n",
            "906/906 [==============================] - 55s 61ms/step - loss: 0.0896 - accuracy: 0.9686 - val_loss: 0.0600 - val_accuracy: 0.9779 - lr: 0.0010\n",
            "Epoch 62/100\n",
            "906/906 [==============================] - 53s 59ms/step - loss: 0.0856 - accuracy: 0.9703 - val_loss: 0.0592 - val_accuracy: 0.9808 - lr: 0.0010\n",
            "Epoch 63/100\n",
            "906/906 [==============================] - 53s 59ms/step - loss: 0.0881 - accuracy: 0.9682 - val_loss: 0.0626 - val_accuracy: 0.9785 - lr: 0.0010\n",
            "Epoch 64/100\n",
            "906/906 [==============================] - 54s 59ms/step - loss: 0.0865 - accuracy: 0.9693 - val_loss: 0.0812 - val_accuracy: 0.9651 - lr: 0.0010\n",
            "Epoch 65/100\n",
            "906/906 [==============================] - 55s 61ms/step - loss: 0.0866 - accuracy: 0.9692 - val_loss: 0.0715 - val_accuracy: 0.9739 - lr: 0.0010\n",
            "Epoch 66/100\n",
            "906/906 [==============================] - 55s 61ms/step - loss: 0.0866 - accuracy: 0.9690 - val_loss: 0.0951 - val_accuracy: 0.9691 - lr: 0.0010\n",
            "Epoch 67/100\n",
            "906/906 [==============================] - 55s 61ms/step - loss: 0.0886 - accuracy: 0.9690 - val_loss: 0.0939 - val_accuracy: 0.9638 - lr: 0.0010\n",
            "Epoch 68/100\n",
            "906/906 [==============================] - 55s 61ms/step - loss: 0.0885 - accuracy: 0.9684 - val_loss: 0.0655 - val_accuracy: 0.9773 - lr: 0.0010\n",
            "Epoch 69/100\n",
            "906/906 [==============================] - 57s 63ms/step - loss: 0.0883 - accuracy: 0.9689 - val_loss: 0.0882 - val_accuracy: 0.9645 - lr: 0.0010\n",
            "Epoch 70/100\n",
            "906/906 [==============================] - 54s 60ms/step - loss: 0.0893 - accuracy: 0.9679 - val_loss: 0.0565 - val_accuracy: 0.9823 - lr: 0.0010\n",
            "Epoch 71/100\n",
            "906/906 [==============================] - 54s 60ms/step - loss: 0.0901 - accuracy: 0.9694 - val_loss: 0.0616 - val_accuracy: 0.9779 - lr: 0.0010\n",
            "Epoch 72/100\n",
            "906/906 [==============================] - 57s 63ms/step - loss: 0.0892 - accuracy: 0.9690 - val_loss: 0.0783 - val_accuracy: 0.9714 - lr: 0.0010\n",
            "Epoch 73/100\n",
            "906/906 [==============================] - 57s 63ms/step - loss: 0.0827 - accuracy: 0.9717 - val_loss: 0.0562 - val_accuracy: 0.9766 - lr: 0.0010\n",
            "Epoch 74/100\n",
            "906/906 [==============================] - 55s 60ms/step - loss: 0.0828 - accuracy: 0.9713 - val_loss: 0.1064 - val_accuracy: 0.9626 - lr: 0.0010\n",
            "Epoch 75/100\n",
            "906/906 [==============================] - 56s 62ms/step - loss: 0.0864 - accuracy: 0.9697 - val_loss: 0.0830 - val_accuracy: 0.9748 - lr: 0.0010\n",
            "Epoch 76/100\n",
            "906/906 [==============================] - 57s 63ms/step - loss: 0.0783 - accuracy: 0.9727 - val_loss: 0.0667 - val_accuracy: 0.9763 - lr: 0.0010\n",
            "Epoch 77/100\n",
            "906/906 [==============================] - 53s 58ms/step - loss: 0.0844 - accuracy: 0.9708 - val_loss: 0.0681 - val_accuracy: 0.9772 - lr: 0.0010\n",
            "Epoch 78/100\n",
            "906/906 [==============================] - 54s 59ms/step - loss: 0.0897 - accuracy: 0.9684 - val_loss: 0.0866 - val_accuracy: 0.9667 - lr: 0.0010\n",
            "Epoch 79/100\n",
            "906/906 [==============================] - 57s 63ms/step - loss: 0.0808 - accuracy: 0.9710 - val_loss: 0.0522 - val_accuracy: 0.9817 - lr: 0.0010\n",
            "Epoch 80/100\n",
            "906/906 [==============================] - 57s 63ms/step - loss: 0.0853 - accuracy: 0.9696 - val_loss: 0.0528 - val_accuracy: 0.9808 - lr: 0.0010\n",
            "Epoch 81/100\n",
            "906/906 [==============================] - 54s 60ms/step - loss: 0.0848 - accuracy: 0.9707 - val_loss: 0.0534 - val_accuracy: 0.9822 - lr: 0.0010\n",
            "Epoch 82/100\n",
            "906/906 [==============================] - 54s 59ms/step - loss: 0.0797 - accuracy: 0.9721 - val_loss: 0.0508 - val_accuracy: 0.9829 - lr: 0.0010\n",
            "Epoch 83/100\n",
            "906/906 [==============================] - 57s 63ms/step - loss: 0.0877 - accuracy: 0.9692 - val_loss: 0.0565 - val_accuracy: 0.9805 - lr: 0.0010\n",
            "Epoch 84/100\n",
            "906/906 [==============================] - 57s 63ms/step - loss: 0.0788 - accuracy: 0.9723 - val_loss: 0.0697 - val_accuracy: 0.9764 - lr: 0.0010\n",
            "Epoch 85/100\n",
            "906/906 [==============================] - 58s 64ms/step - loss: 0.0855 - accuracy: 0.9706 - val_loss: 0.0657 - val_accuracy: 0.9824 - lr: 0.0010\n",
            "Epoch 86/100\n",
            "906/906 [==============================] - 59s 65ms/step - loss: 0.0837 - accuracy: 0.9714 - val_loss: 0.0572 - val_accuracy: 0.9805 - lr: 0.0010\n",
            "Epoch 87/100\n",
            "906/906 [==============================] - 61s 67ms/step - loss: 0.0873 - accuracy: 0.9695 - val_loss: 0.0649 - val_accuracy: 0.9765 - lr: 0.0010\n",
            "Epoch 88/100\n",
            "906/906 [==============================] - 58s 64ms/step - loss: 0.0807 - accuracy: 0.9713 - val_loss: 0.0767 - val_accuracy: 0.9691 - lr: 0.0010\n",
            "Epoch 89/100\n",
            "906/906 [==============================] - 59s 65ms/step - loss: 0.0793 - accuracy: 0.9724 - val_loss: 0.0764 - val_accuracy: 0.9705 - lr: 0.0010\n",
            "Epoch 90/100\n",
            "906/906 [==============================] - 60s 66ms/step - loss: 0.0874 - accuracy: 0.9694 - val_loss: 0.0459 - val_accuracy: 0.9845 - lr: 0.0010\n",
            "Epoch 91/100\n",
            "906/906 [==============================] - 58s 65ms/step - loss: 0.0817 - accuracy: 0.9712 - val_loss: 0.0525 - val_accuracy: 0.9828 - lr: 0.0010\n",
            "Epoch 92/100\n",
            "906/906 [==============================] - 57s 63ms/step - loss: 0.0849 - accuracy: 0.9711 - val_loss: 0.0692 - val_accuracy: 0.9774 - lr: 0.0010\n",
            "Epoch 93/100\n",
            "906/906 [==============================] - 59s 65ms/step - loss: 0.0840 - accuracy: 0.9707 - val_loss: 0.0957 - val_accuracy: 0.9596 - lr: 0.0010\n",
            "Epoch 94/100\n",
            "906/906 [==============================] - 59s 65ms/step - loss: 0.0847 - accuracy: 0.9705 - val_loss: 0.0633 - val_accuracy: 0.9785 - lr: 0.0010\n",
            "Epoch 95/100\n",
            "906/906 [==============================] - 61s 68ms/step - loss: 0.0798 - accuracy: 0.9729 - val_loss: 0.0529 - val_accuracy: 0.9816 - lr: 0.0010\n",
            "Epoch 96/100\n",
            "906/906 [==============================] - 60s 66ms/step - loss: 0.0819 - accuracy: 0.9721 - val_loss: 0.0689 - val_accuracy: 0.9769 - lr: 0.0010\n",
            "Epoch 97/100\n",
            "906/906 [==============================] - 61s 67ms/step - loss: 0.0806 - accuracy: 0.9722 - val_loss: 0.0583 - val_accuracy: 0.9791 - lr: 0.0010\n",
            "Epoch 98/100\n",
            "906/906 [==============================] - 60s 67ms/step - loss: 0.0756 - accuracy: 0.9745 - val_loss: 0.0544 - val_accuracy: 0.9813 - lr: 0.0010\n",
            "Epoch 99/100\n",
            "906/906 [==============================] - 60s 67ms/step - loss: 0.0774 - accuracy: 0.9731 - val_loss: 0.0626 - val_accuracy: 0.9678 - lr: 0.0010\n",
            "Epoch 100/100\n",
            "906/906 [==============================] - 61s 67ms/step - loss: 0.0800 - accuracy: 0.9721 - val_loss: 0.0687 - val_accuracy: 0.9748 - lr: 0.0010\n"
          ]
        },
        {
          "output_type": "execute_result",
          "data": {
            "text/plain": [
              "<keras.src.callbacks.History at 0x7dd4702d7790>"
            ]
          },
          "metadata": {},
          "execution_count": 29
        }
      ],
      "source": [
        "model.fit([x_train, x_train], y_train,\n",
        "          batch_size=64,\n",
        "          epochs=100,\n",
        "          validation_data=([x_val, x_val], y_val),\n",
        "          callbacks=[lr_callback])"
      ]
    },
    {
      "cell_type": "code",
      "execution_count": 30,
      "id": "3ffe7d0c",
      "metadata": {
        "id": "3ffe7d0c"
      },
      "outputs": [],
      "source": [
        "# Record the end time\n",
        "end_time = time.time()"
      ]
    },
    {
      "cell_type": "code",
      "execution_count": 31,
      "id": "e8dd9c65",
      "metadata": {
        "id": "e8dd9c65",
        "colab": {
          "base_uri": "https://localhost:8080/"
        },
        "outputId": "f5627466-1c40-49da-fd46-fc3fb5da1df2"
      },
      "outputs": [
        {
          "output_type": "stream",
          "name": "stdout",
          "text": [
            "Total Running Time: 5683.55 seconds\n"
          ]
        }
      ],
      "source": [
        "# Calculate the total running time\n",
        "running_time = end_time - start_time\n",
        "print(\"Total Running Time: {:.2f} seconds\".format(running_time))"
      ]
    },
    {
      "cell_type": "code",
      "execution_count": 32,
      "id": "23ebca14",
      "metadata": {
        "id": "23ebca14",
        "colab": {
          "base_uri": "https://localhost:8080/"
        },
        "outputId": "7c4e7dc1-9423-4f5e-8bde-94c1d32b6b7a"
      },
      "outputs": [
        {
          "output_type": "stream",
          "name": "stdout",
          "text": [
            "252/252 [==============================] - 4s 18ms/step - loss: 0.0706 - accuracy: 0.9732\n",
            "Test loss: 0.07062903791666031, Test accuracy: 0.9731810092926025\n"
          ]
        }
      ],
      "source": [
        "# Evaluate the model\n",
        "loss, accuracy = model.evaluate([x_test, x_test], y_test)\n",
        "print(f\"Test loss: {loss}, Test accuracy: {accuracy}\")"
      ]
    },
    {
      "cell_type": "code",
      "execution_count": 33,
      "id": "78f8e19d",
      "metadata": {
        "id": "78f8e19d",
        "colab": {
          "base_uri": "https://localhost:8080/"
        },
        "outputId": "db2a21ad-0660-4c02-f3ff-bed6e8ff6d51"
      },
      "outputs": [
        {
          "output_type": "stream",
          "name": "stderr",
          "text": [
            "/usr/local/lib/python3.10/dist-packages/keras/src/engine/training.py:3103: UserWarning: You are saving your model as an HDF5 file via `model.save()`. This file format is considered legacy. We recommend using instead the native Keras format, e.g. `model.save('my_model.keras')`.\n",
            "  saving_api.save_model(\n"
          ]
        }
      ],
      "source": [
        "# Save the trained model\n",
        "model.save(\"my_model.h5\")"
      ]
    }
  ],
  "metadata": {
    "accelerator": "GPU",
    "colab": {
      "provenance": [],
      "include_colab_link": true
    },
    "kernelspec": {
      "display_name": "Python 3 (ipykernel)",
      "language": "python",
      "name": "python3"
    },
    "language_info": {
      "codemirror_mode": {
        "name": "ipython",
        "version": 3
      },
      "file_extension": ".py",
      "mimetype": "text/x-python",
      "name": "python",
      "nbconvert_exporter": "python",
      "pygments_lexer": "ipython3",
      "version": "3.10.7"
    }
  },
  "nbformat": 4,
  "nbformat_minor": 5
}