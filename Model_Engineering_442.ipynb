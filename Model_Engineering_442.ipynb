{
  "cells": [
    {
      "cell_type": "code",
      "execution_count": 1,
      "id": "da645ec0",
      "metadata": {
        "colab": {
          "base_uri": "https://localhost:8080/",
          "height": 105
        },
        "id": "da645ec0",
        "outputId": "70c74bab-2b33-4421-9346-8e22831316eb"
      },
      "outputs": [
        {
          "output_type": "execute_result",
          "data": {
            "text/plain": [
              "\"\\nYOUR TASKS:\\n\\n1. SPECIFY THE URL OR PATH TO YOUR DATA, REMEMBER - YOU FIRST HAVE TO DOWNLOAD IT.\\n2. CLICK RUN ALL OR RESTART AND RUN ALL BUTTON TO RUN THE CODE. THIS CODE RUNS IN A CHRONOLOGICAL MANNER - THE TOP BLOCKS MUST PRECEED THE BOTTOM ONES, \\n                                                                                                            i.e. don't run stuff from the bottom first, otherwise the code won't work properly.\\n3. NEAR THE END OF THE CODE, YOU WILL SEE YOUR EPOCH METRICS, AS I STATED IN CLASS, YOU WANT THE ACCURACY TO APPROACH 100% =1.0 AND THE LOSS TO APPROACH 0\\n4. IN CASE IF YOUR MODEL IS STRUGGLING TO REACH THESE RESULTS AND IS INSTEAD STUCK AT A LOW ACCURACY, NAVIGATE TO THE BLOCK OF CODE WITH HYPERPARAMETERS AND CHANGE THESE NUMBERS,\\nTHEN, TRY RUNNING THE CODE AGAIN AND SEE HOW YOUR MODEL IS PERFORMING; REPEAT UNTIL YOU REACH A PLAUSIBLE RESULT (ONE THAT IS BETTER THAN A COIN TOSS IN TERMS OF PREDICTION ACCURACY IN THE WORST CASE)\\n5. SAVE YOUR RESULTS => THE CODE INCLUDES A BLOCK WHICH WILL SAVE YOUR MODEL TO A .h5 FILE,\\n - KEEP THE OUTPUTS OF THIS NOTEBOOK AS WELL, YOU WILL WANT TO DEMONSTRATE HOW THE TRAINING PROCESS WENT.\\n - BE MINDFUL OF THE TIME YOU HAVE IF YOU CHOOSE TO USE GOOGLE COLLABORATORY INSTEAD OF YOUR OWN MACHINE AS THEIR VMs ONLY OFFER YOU A COUPLE OF HOURS OF USAGE.\\n\""
            ],
            "application/vnd.google.colaboratory.intrinsic+json": {
              "type": "string"
            }
          },
          "metadata": {},
          "execution_count": 1
        }
      ],
      "source": [
        "'''\n",
        "YOUR TASKS:\n",
        "\n",
        "1. SPECIFY THE URL OR PATH TO YOUR DATA, REMEMBER - YOU FIRST HAVE TO DOWNLOAD IT.\n",
        "2. CLICK RUN ALL OR RESTART AND RUN ALL BUTTON TO RUN THE CODE. THIS CODE RUNS IN A CHRONOLOGICAL MANNER - THE TOP BLOCKS MUST PRECEED THE BOTTOM ONES,\n",
        "                                                                                                            i.e. don't run stuff from the bottom first, otherwise the code won't work properly.\n",
        "3. NEAR THE END OF THE CODE, YOU WILL SEE YOUR EPOCH METRICS, AS I STATED IN CLASS, YOU WANT THE ACCURACY TO APPROACH 100% =1.0 AND THE LOSS TO APPROACH 0\n",
        "4. IN CASE IF YOUR MODEL IS STRUGGLING TO REACH THESE RESULTS AND IS INSTEAD STUCK AT A LOW ACCURACY, NAVIGATE TO THE BLOCK OF CODE WITH HYPERPARAMETERS AND CHANGE THESE NUMBERS,\n",
        "THEN, TRY RUNNING THE CODE AGAIN AND SEE HOW YOUR MODEL IS PERFORMING; REPEAT UNTIL YOU REACH A PLAUSIBLE RESULT (ONE THAT IS BETTER THAN A COIN TOSS IN TERMS OF PREDICTION ACCURACY IN THE WORST CASE)\n",
        "5. SAVE YOUR RESULTS => THE CODE INCLUDES A BLOCK WHICH WILL SAVE YOUR MODEL TO A .h5 FILE,\n",
        " - KEEP THE OUTPUTS OF THIS NOTEBOOK AS WELL, YOU WILL WANT TO DEMONSTRATE HOW THE TRAINING PROCESS WENT.\n",
        " - BE MINDFUL OF THE TIME YOU HAVE IF YOU CHOOSE TO USE GOOGLE COLLABORATORY INSTEAD OF YOUR OWN MACHINE AS THEIR VMs ONLY OFFER YOU A COUPLE OF HOURS OF USAGE.\n",
        "'''"
      ]
    },
    {
      "cell_type": "code",
      "execution_count": 2,
      "id": "dd77aa5b",
      "metadata": {
        "id": "dd77aa5b"
      },
      "outputs": [],
      "source": [
        "import numpy as np\n",
        "import pandas as pd\n",
        "import tensorflow as tf\n",
        "from sklearn.model_selection import train_test_split\n",
        "from tensorflow import keras\n",
        "from tensorflow.keras import layers\n",
        "from tensorflow.keras.models import load_model\n",
        "from tensorflow.keras.optimizers import Adam\n",
        "from tensorflow.keras.callbacks import ReduceLROnPlateau, EarlyStopping\n",
        "from sklearn.metrics import confusion_matrix\n",
        "import seaborn as sns\n",
        "from sklearn.preprocessing import LabelEncoder\n",
        "import matplotlib.pyplot as plt\n",
        "import time"
      ]
    },
    {
      "cell_type": "code",
      "execution_count": 3,
      "id": "f16df2f1",
      "metadata": {
        "id": "f16df2f1",
        "colab": {
          "base_uri": "https://localhost:8080/"
        },
        "outputId": "a504b59b-c634-416d-8114-85c165a1909e"
      },
      "outputs": [
        {
          "output_type": "stream",
          "name": "stderr",
          "text": [
            "<ipython-input-3-afd856abb4ea>:10: DeprecationWarning: In a future version, `df.iloc[:, i] = newvals` will attempt to set the values inplace instead of always setting a new array. To retain the old behavior, use either `df[df.columns[i]] = newvals` or, if columns are non-unique, `df.isetitem(i, newvals)`\n",
            "  data.iloc[:, -1] = label_encoder.fit_transform(data.iloc[:, -1])\n"
          ]
        }
      ],
      "source": [
        "# Function to read the data\n",
        "def read_data(filename):\n",
        "    data = pd.read_csv(filename)\n",
        "\n",
        "    # Extract features\n",
        "    features = data.iloc[:,1 :-1].values\n",
        "\n",
        "    # Extract and encode labels\n",
        "    label_encoder = LabelEncoder()\n",
        "    data.iloc[:, -1] = label_encoder.fit_transform(data.iloc[:, -1])\n",
        "    labels = data.iloc[:, -1].values\n",
        "\n",
        "    return features, labels\n",
        "# Read the data\n",
        "data_url = 'https://raw.githubusercontent.com/vivekpatel0512/Data/main/data.csv'# enter your data URL or PATH here in enclosed in \" \" IF YOUR NOTEBOOK IS IN THE SAME FOLDER AS data.csv, which is your data you downloaded, then this will run as it is.\n",
        "                    # otherwise, you have to specify a different path or url\n",
        "x, y = read_data(data_url)"
      ]
    },
    {
      "cell_type": "code",
      "execution_count": 4,
      "id": "773378f4",
      "metadata": {
        "id": "773378f4"
      },
      "outputs": [],
      "source": [
        "df = pd.read_csv('https://raw.githubusercontent.com/vivekpatel0512/Data/main/data.csv') ## THIS AND THE BLOCK OF CODE IMMEDIATELY AFTER THIS ARE OPTIONAL, THIS IS INTENDED TO HELP YOU VISUALIZE YOUR DATASET"
      ]
    },
    {
      "cell_type": "code",
      "execution_count": 5,
      "id": "c4345daf",
      "metadata": {
        "colab": {
          "base_uri": "https://localhost:8080/",
          "height": 424
        },
        "id": "c4345daf",
        "outputId": "a3a0b557-8897-4396-fb94-5c73b769ef01"
      },
      "outputs": [
        {
          "output_type": "execute_result",
          "data": {
            "text/plain": [
              "       Time (Seconds)  x-rotation  y-rotation  z-rotation  x-position  \\\n",
              "0            0.000000  130.762726  -25.736914  101.470406    0.781488   \n",
              "1            0.008333  130.731918  -25.740324  101.427490    0.781557   \n",
              "2            0.016667  130.560669  -25.780014  101.309349    0.781628   \n",
              "3            0.025000  130.458420  -25.779041  101.223869    0.781694   \n",
              "4            0.033333  130.319962  -25.804686  101.011826    0.781846   \n",
              "...               ...         ...         ...         ...         ...   \n",
              "80578       30.375000   13.488531  -50.191494  113.446838    1.457832   \n",
              "80579       30.383333   13.544830  -50.389988  113.117622    1.458303   \n",
              "80580       30.391667   13.673836  -50.629677  112.844040    1.458749   \n",
              "80581       30.400000   13.901954  -50.902596  112.617249    1.459307   \n",
              "80582       30.408333   14.051628  -51.106907  112.494705    1.459826   \n",
              "\n",
              "       y-position  z-position                  label  \n",
              "0        0.744747    0.497812      Sit_VidCall_Phone  \n",
              "1        0.744848    0.497838      Sit_VidCall_Phone  \n",
              "2        0.744905    0.497885      Sit_VidCall_Phone  \n",
              "3        0.744982    0.497898      Sit_VidCall_Phone  \n",
              "4        0.745155    0.497866      Sit_VidCall_Phone  \n",
              "...           ...         ...                    ...  \n",
              "80578    1.077699    0.283344  Walk_WebBrowse_Tablet  \n",
              "80579    1.076373    0.286206  Walk_WebBrowse_Tablet  \n",
              "80580    1.075032    0.289057  Walk_WebBrowse_Tablet  \n",
              "80581    1.073831    0.291956  Walk_WebBrowse_Tablet  \n",
              "80582    1.072527    0.294885  Walk_WebBrowse_Tablet  \n",
              "\n",
              "[80583 rows x 8 columns]"
            ],
            "text/html": [
              "\n",
              "  <div id=\"df-4fe2b6b7-d7a2-4b10-94c2-90460ba11d14\" class=\"colab-df-container\">\n",
              "    <div>\n",
              "<style scoped>\n",
              "    .dataframe tbody tr th:only-of-type {\n",
              "        vertical-align: middle;\n",
              "    }\n",
              "\n",
              "    .dataframe tbody tr th {\n",
              "        vertical-align: top;\n",
              "    }\n",
              "\n",
              "    .dataframe thead th {\n",
              "        text-align: right;\n",
              "    }\n",
              "</style>\n",
              "<table border=\"1\" class=\"dataframe\">\n",
              "  <thead>\n",
              "    <tr style=\"text-align: right;\">\n",
              "      <th></th>\n",
              "      <th>Time (Seconds)</th>\n",
              "      <th>x-rotation</th>\n",
              "      <th>y-rotation</th>\n",
              "      <th>z-rotation</th>\n",
              "      <th>x-position</th>\n",
              "      <th>y-position</th>\n",
              "      <th>z-position</th>\n",
              "      <th>label</th>\n",
              "    </tr>\n",
              "  </thead>\n",
              "  <tbody>\n",
              "    <tr>\n",
              "      <th>0</th>\n",
              "      <td>0.000000</td>\n",
              "      <td>130.762726</td>\n",
              "      <td>-25.736914</td>\n",
              "      <td>101.470406</td>\n",
              "      <td>0.781488</td>\n",
              "      <td>0.744747</td>\n",
              "      <td>0.497812</td>\n",
              "      <td>Sit_VidCall_Phone</td>\n",
              "    </tr>\n",
              "    <tr>\n",
              "      <th>1</th>\n",
              "      <td>0.008333</td>\n",
              "      <td>130.731918</td>\n",
              "      <td>-25.740324</td>\n",
              "      <td>101.427490</td>\n",
              "      <td>0.781557</td>\n",
              "      <td>0.744848</td>\n",
              "      <td>0.497838</td>\n",
              "      <td>Sit_VidCall_Phone</td>\n",
              "    </tr>\n",
              "    <tr>\n",
              "      <th>2</th>\n",
              "      <td>0.016667</td>\n",
              "      <td>130.560669</td>\n",
              "      <td>-25.780014</td>\n",
              "      <td>101.309349</td>\n",
              "      <td>0.781628</td>\n",
              "      <td>0.744905</td>\n",
              "      <td>0.497885</td>\n",
              "      <td>Sit_VidCall_Phone</td>\n",
              "    </tr>\n",
              "    <tr>\n",
              "      <th>3</th>\n",
              "      <td>0.025000</td>\n",
              "      <td>130.458420</td>\n",
              "      <td>-25.779041</td>\n",
              "      <td>101.223869</td>\n",
              "      <td>0.781694</td>\n",
              "      <td>0.744982</td>\n",
              "      <td>0.497898</td>\n",
              "      <td>Sit_VidCall_Phone</td>\n",
              "    </tr>\n",
              "    <tr>\n",
              "      <th>4</th>\n",
              "      <td>0.033333</td>\n",
              "      <td>130.319962</td>\n",
              "      <td>-25.804686</td>\n",
              "      <td>101.011826</td>\n",
              "      <td>0.781846</td>\n",
              "      <td>0.745155</td>\n",
              "      <td>0.497866</td>\n",
              "      <td>Sit_VidCall_Phone</td>\n",
              "    </tr>\n",
              "    <tr>\n",
              "      <th>...</th>\n",
              "      <td>...</td>\n",
              "      <td>...</td>\n",
              "      <td>...</td>\n",
              "      <td>...</td>\n",
              "      <td>...</td>\n",
              "      <td>...</td>\n",
              "      <td>...</td>\n",
              "      <td>...</td>\n",
              "    </tr>\n",
              "    <tr>\n",
              "      <th>80578</th>\n",
              "      <td>30.375000</td>\n",
              "      <td>13.488531</td>\n",
              "      <td>-50.191494</td>\n",
              "      <td>113.446838</td>\n",
              "      <td>1.457832</td>\n",
              "      <td>1.077699</td>\n",
              "      <td>0.283344</td>\n",
              "      <td>Walk_WebBrowse_Tablet</td>\n",
              "    </tr>\n",
              "    <tr>\n",
              "      <th>80579</th>\n",
              "      <td>30.383333</td>\n",
              "      <td>13.544830</td>\n",
              "      <td>-50.389988</td>\n",
              "      <td>113.117622</td>\n",
              "      <td>1.458303</td>\n",
              "      <td>1.076373</td>\n",
              "      <td>0.286206</td>\n",
              "      <td>Walk_WebBrowse_Tablet</td>\n",
              "    </tr>\n",
              "    <tr>\n",
              "      <th>80580</th>\n",
              "      <td>30.391667</td>\n",
              "      <td>13.673836</td>\n",
              "      <td>-50.629677</td>\n",
              "      <td>112.844040</td>\n",
              "      <td>1.458749</td>\n",
              "      <td>1.075032</td>\n",
              "      <td>0.289057</td>\n",
              "      <td>Walk_WebBrowse_Tablet</td>\n",
              "    </tr>\n",
              "    <tr>\n",
              "      <th>80581</th>\n",
              "      <td>30.400000</td>\n",
              "      <td>13.901954</td>\n",
              "      <td>-50.902596</td>\n",
              "      <td>112.617249</td>\n",
              "      <td>1.459307</td>\n",
              "      <td>1.073831</td>\n",
              "      <td>0.291956</td>\n",
              "      <td>Walk_WebBrowse_Tablet</td>\n",
              "    </tr>\n",
              "    <tr>\n",
              "      <th>80582</th>\n",
              "      <td>30.408333</td>\n",
              "      <td>14.051628</td>\n",
              "      <td>-51.106907</td>\n",
              "      <td>112.494705</td>\n",
              "      <td>1.459826</td>\n",
              "      <td>1.072527</td>\n",
              "      <td>0.294885</td>\n",
              "      <td>Walk_WebBrowse_Tablet</td>\n",
              "    </tr>\n",
              "  </tbody>\n",
              "</table>\n",
              "<p>80583 rows × 8 columns</p>\n",
              "</div>\n",
              "    <div class=\"colab-df-buttons\">\n",
              "\n",
              "  <div class=\"colab-df-container\">\n",
              "    <button class=\"colab-df-convert\" onclick=\"convertToInteractive('df-4fe2b6b7-d7a2-4b10-94c2-90460ba11d14')\"\n",
              "            title=\"Convert this dataframe to an interactive table.\"\n",
              "            style=\"display:none;\">\n",
              "\n",
              "  <svg xmlns=\"http://www.w3.org/2000/svg\" height=\"24px\" viewBox=\"0 -960 960 960\">\n",
              "    <path d=\"M120-120v-720h720v720H120Zm60-500h600v-160H180v160Zm220 220h160v-160H400v160Zm0 220h160v-160H400v160ZM180-400h160v-160H180v160Zm440 0h160v-160H620v160ZM180-180h160v-160H180v160Zm440 0h160v-160H620v160Z\"/>\n",
              "  </svg>\n",
              "    </button>\n",
              "\n",
              "  <style>\n",
              "    .colab-df-container {\n",
              "      display:flex;\n",
              "      gap: 12px;\n",
              "    }\n",
              "\n",
              "    .colab-df-convert {\n",
              "      background-color: #E8F0FE;\n",
              "      border: none;\n",
              "      border-radius: 50%;\n",
              "      cursor: pointer;\n",
              "      display: none;\n",
              "      fill: #1967D2;\n",
              "      height: 32px;\n",
              "      padding: 0 0 0 0;\n",
              "      width: 32px;\n",
              "    }\n",
              "\n",
              "    .colab-df-convert:hover {\n",
              "      background-color: #E2EBFA;\n",
              "      box-shadow: 0px 1px 2px rgba(60, 64, 67, 0.3), 0px 1px 3px 1px rgba(60, 64, 67, 0.15);\n",
              "      fill: #174EA6;\n",
              "    }\n",
              "\n",
              "    .colab-df-buttons div {\n",
              "      margin-bottom: 4px;\n",
              "    }\n",
              "\n",
              "    [theme=dark] .colab-df-convert {\n",
              "      background-color: #3B4455;\n",
              "      fill: #D2E3FC;\n",
              "    }\n",
              "\n",
              "    [theme=dark] .colab-df-convert:hover {\n",
              "      background-color: #434B5C;\n",
              "      box-shadow: 0px 1px 3px 1px rgba(0, 0, 0, 0.15);\n",
              "      filter: drop-shadow(0px 1px 2px rgba(0, 0, 0, 0.3));\n",
              "      fill: #FFFFFF;\n",
              "    }\n",
              "  </style>\n",
              "\n",
              "    <script>\n",
              "      const buttonEl =\n",
              "        document.querySelector('#df-4fe2b6b7-d7a2-4b10-94c2-90460ba11d14 button.colab-df-convert');\n",
              "      buttonEl.style.display =\n",
              "        google.colab.kernel.accessAllowed ? 'block' : 'none';\n",
              "\n",
              "      async function convertToInteractive(key) {\n",
              "        const element = document.querySelector('#df-4fe2b6b7-d7a2-4b10-94c2-90460ba11d14');\n",
              "        const dataTable =\n",
              "          await google.colab.kernel.invokeFunction('convertToInteractive',\n",
              "                                                    [key], {});\n",
              "        if (!dataTable) return;\n",
              "\n",
              "        const docLinkHtml = 'Like what you see? Visit the ' +\n",
              "          '<a target=\"_blank\" href=https://colab.research.google.com/notebooks/data_table.ipynb>data table notebook</a>'\n",
              "          + ' to learn more about interactive tables.';\n",
              "        element.innerHTML = '';\n",
              "        dataTable['output_type'] = 'display_data';\n",
              "        await google.colab.output.renderOutput(dataTable, element);\n",
              "        const docLink = document.createElement('div');\n",
              "        docLink.innerHTML = docLinkHtml;\n",
              "        element.appendChild(docLink);\n",
              "      }\n",
              "    </script>\n",
              "  </div>\n",
              "\n",
              "\n",
              "<div id=\"df-a720546f-00e6-4ad6-a8fa-2efe3d3c78fd\">\n",
              "  <button class=\"colab-df-quickchart\" onclick=\"quickchart('df-a720546f-00e6-4ad6-a8fa-2efe3d3c78fd')\"\n",
              "            title=\"Suggest charts\"\n",
              "            style=\"display:none;\">\n",
              "\n",
              "<svg xmlns=\"http://www.w3.org/2000/svg\" height=\"24px\"viewBox=\"0 0 24 24\"\n",
              "     width=\"24px\">\n",
              "    <g>\n",
              "        <path d=\"M19 3H5c-1.1 0-2 .9-2 2v14c0 1.1.9 2 2 2h14c1.1 0 2-.9 2-2V5c0-1.1-.9-2-2-2zM9 17H7v-7h2v7zm4 0h-2V7h2v10zm4 0h-2v-4h2v4z\"/>\n",
              "    </g>\n",
              "</svg>\n",
              "  </button>\n",
              "\n",
              "<style>\n",
              "  .colab-df-quickchart {\n",
              "      --bg-color: #E8F0FE;\n",
              "      --fill-color: #1967D2;\n",
              "      --hover-bg-color: #E2EBFA;\n",
              "      --hover-fill-color: #174EA6;\n",
              "      --disabled-fill-color: #AAA;\n",
              "      --disabled-bg-color: #DDD;\n",
              "  }\n",
              "\n",
              "  [theme=dark] .colab-df-quickchart {\n",
              "      --bg-color: #3B4455;\n",
              "      --fill-color: #D2E3FC;\n",
              "      --hover-bg-color: #434B5C;\n",
              "      --hover-fill-color: #FFFFFF;\n",
              "      --disabled-bg-color: #3B4455;\n",
              "      --disabled-fill-color: #666;\n",
              "  }\n",
              "\n",
              "  .colab-df-quickchart {\n",
              "    background-color: var(--bg-color);\n",
              "    border: none;\n",
              "    border-radius: 50%;\n",
              "    cursor: pointer;\n",
              "    display: none;\n",
              "    fill: var(--fill-color);\n",
              "    height: 32px;\n",
              "    padding: 0;\n",
              "    width: 32px;\n",
              "  }\n",
              "\n",
              "  .colab-df-quickchart:hover {\n",
              "    background-color: var(--hover-bg-color);\n",
              "    box-shadow: 0 1px 2px rgba(60, 64, 67, 0.3), 0 1px 3px 1px rgba(60, 64, 67, 0.15);\n",
              "    fill: var(--button-hover-fill-color);\n",
              "  }\n",
              "\n",
              "  .colab-df-quickchart-complete:disabled,\n",
              "  .colab-df-quickchart-complete:disabled:hover {\n",
              "    background-color: var(--disabled-bg-color);\n",
              "    fill: var(--disabled-fill-color);\n",
              "    box-shadow: none;\n",
              "  }\n",
              "\n",
              "  .colab-df-spinner {\n",
              "    border: 2px solid var(--fill-color);\n",
              "    border-color: transparent;\n",
              "    border-bottom-color: var(--fill-color);\n",
              "    animation:\n",
              "      spin 1s steps(1) infinite;\n",
              "  }\n",
              "\n",
              "  @keyframes spin {\n",
              "    0% {\n",
              "      border-color: transparent;\n",
              "      border-bottom-color: var(--fill-color);\n",
              "      border-left-color: var(--fill-color);\n",
              "    }\n",
              "    20% {\n",
              "      border-color: transparent;\n",
              "      border-left-color: var(--fill-color);\n",
              "      border-top-color: var(--fill-color);\n",
              "    }\n",
              "    30% {\n",
              "      border-color: transparent;\n",
              "      border-left-color: var(--fill-color);\n",
              "      border-top-color: var(--fill-color);\n",
              "      border-right-color: var(--fill-color);\n",
              "    }\n",
              "    40% {\n",
              "      border-color: transparent;\n",
              "      border-right-color: var(--fill-color);\n",
              "      border-top-color: var(--fill-color);\n",
              "    }\n",
              "    60% {\n",
              "      border-color: transparent;\n",
              "      border-right-color: var(--fill-color);\n",
              "    }\n",
              "    80% {\n",
              "      border-color: transparent;\n",
              "      border-right-color: var(--fill-color);\n",
              "      border-bottom-color: var(--fill-color);\n",
              "    }\n",
              "    90% {\n",
              "      border-color: transparent;\n",
              "      border-bottom-color: var(--fill-color);\n",
              "    }\n",
              "  }\n",
              "</style>\n",
              "\n",
              "  <script>\n",
              "    async function quickchart(key) {\n",
              "      const quickchartButtonEl =\n",
              "        document.querySelector('#' + key + ' button');\n",
              "      quickchartButtonEl.disabled = true;  // To prevent multiple clicks.\n",
              "      quickchartButtonEl.classList.add('colab-df-spinner');\n",
              "      try {\n",
              "        const charts = await google.colab.kernel.invokeFunction(\n",
              "            'suggestCharts', [key], {});\n",
              "      } catch (error) {\n",
              "        console.error('Error during call to suggestCharts:', error);\n",
              "      }\n",
              "      quickchartButtonEl.classList.remove('colab-df-spinner');\n",
              "      quickchartButtonEl.classList.add('colab-df-quickchart-complete');\n",
              "    }\n",
              "    (() => {\n",
              "      let quickchartButtonEl =\n",
              "        document.querySelector('#df-a720546f-00e6-4ad6-a8fa-2efe3d3c78fd button');\n",
              "      quickchartButtonEl.style.display =\n",
              "        google.colab.kernel.accessAllowed ? 'block' : 'none';\n",
              "    })();\n",
              "  </script>\n",
              "</div>\n",
              "    </div>\n",
              "  </div>\n"
            ]
          },
          "metadata": {},
          "execution_count": 5
        }
      ],
      "source": [
        "df # AS STATED ABOVE, YOU MAY REMOVE THIS AND THE ABOVE BLOCKS OF CODE IF YOU LIKE, THIS WILL HAVE NO"
      ]
    },
    {
      "cell_type": "code",
      "execution_count": 6,
      "id": "3eb86201",
      "metadata": {
        "colab": {
          "base_uri": "https://localhost:8080/"
        },
        "id": "3eb86201",
        "outputId": "34f473dd-2fab-4e36-aff4-291dafba7a0c"
      },
      "outputs": [
        {
          "output_type": "execute_result",
          "data": {
            "text/plain": [
              "(80583, 6)"
            ]
          },
          "metadata": {},
          "execution_count": 6
        }
      ],
      "source": [
        "x.shape ### IN THE FOLLOWING PARTS OF THE CODE, MAKE SURE THAT EVERYTING IS LOADED CORRECTLY, YOU SHOULD HAVE A DATASET WITH 22 CLASSES, (n-rows, 6 columns, later another dimension will be added here)"
      ]
    },
    {
      "cell_type": "code",
      "execution_count": 7,
      "id": "6b640bf8",
      "metadata": {
        "colab": {
          "base_uri": "https://localhost:8080/"
        },
        "id": "6b640bf8",
        "outputId": "f53324b0-5051-4ed1-8f9b-b9a8deb504ca"
      },
      "outputs": [
        {
          "output_type": "execute_result",
          "data": {
            "text/plain": [
              "(80583,)"
            ]
          },
          "metadata": {},
          "execution_count": 7
        }
      ],
      "source": [
        "y.shape"
      ]
    },
    {
      "cell_type": "code",
      "execution_count": 8,
      "id": "9650592c",
      "metadata": {
        "colab": {
          "base_uri": "https://localhost:8080/"
        },
        "id": "9650592c",
        "outputId": "c96e372b-b625-4290-c01f-4c471ee78c3d"
      },
      "outputs": [
        {
          "output_type": "execute_result",
          "data": {
            "text/plain": [
              "array([ 0,  1,  2,  3,  4,  5,  6,  7,  8,  9, 10, 11, 12, 13, 14, 15, 16,\n",
              "       17, 18, 19, 20, 21])"
            ]
          },
          "metadata": {},
          "execution_count": 8
        }
      ],
      "source": [
        "np.unique(y)"
      ]
    },
    {
      "cell_type": "code",
      "execution_count": 9,
      "id": "0edc69b6",
      "metadata": {
        "colab": {
          "base_uri": "https://localhost:8080/"
        },
        "id": "0edc69b6",
        "outputId": "e9e2f919-6a55-48ae-aa8f-37e894e61478"
      },
      "outputs": [
        {
          "output_type": "execute_result",
          "data": {
            "text/plain": [
              "array([130.762726, -25.736914, 101.470406,   0.781488,   0.744747,\n",
              "         0.497812])"
            ]
          },
          "metadata": {},
          "execution_count": 9
        }
      ],
      "source": [
        "x[0]"
      ]
    },
    {
      "cell_type": "code",
      "execution_count": 10,
      "id": "b4eec323",
      "metadata": {
        "colab": {
          "base_uri": "https://localhost:8080/"
        },
        "id": "b4eec323",
        "outputId": "e2753379-6494-4adb-9201-60a2a40444c2"
      },
      "outputs": [
        {
          "output_type": "execute_result",
          "data": {
            "text/plain": [
              "0"
            ]
          },
          "metadata": {},
          "execution_count": 10
        }
      ],
      "source": [
        "y[0] # these were sample rows from the data for your to inspect, you should see a 6 by 1 vector above and a single value here"
      ]
    },
    {
      "cell_type": "code",
      "execution_count": 11,
      "id": "9db6440b",
      "metadata": {
        "id": "9db6440b"
      },
      "outputs": [],
      "source": [
        "# Split the data into training, validation, and testing sets\n",
        "x_train, x_test, y_train, y_test = train_test_split(x, y, test_size=0.1, random_state=42)\n",
        "x_train, x_val, y_train, y_val = train_test_split(x_train, y_train, test_size=0.2, random_state=42)"
      ]
    },
    {
      "cell_type": "code",
      "execution_count": 12,
      "id": "0b135163",
      "metadata": {
        "id": "0b135163"
      },
      "outputs": [],
      "source": [
        "# Reshape the data\n",
        "x_train = x_train.reshape((x_train.shape[0], x_train.shape[1], 1))\n",
        "x_val = x_val.reshape((x_val.shape[0], x_val.shape[1], 1))\n",
        "x_test = x_test.reshape((x_test.shape[0], x_test.shape[1], 1))"
      ]
    },
    {
      "cell_type": "code",
      "execution_count": 13,
      "id": "936243fe",
      "metadata": {
        "id": "936243fe"
      },
      "outputs": [],
      "source": [
        "# Determine the input shape and number of classes\n",
        "input_shape = (x_train.shape[1], 1)\n",
        "num_classes = len(np.unique(y))"
      ]
    },
    {
      "cell_type": "code",
      "execution_count": 14,
      "id": "4cb2989e",
      "metadata": {
        "colab": {
          "base_uri": "https://localhost:8080/"
        },
        "id": "4cb2989e",
        "outputId": "c3c4face-c0b1-435e-b654-56e806aca90a"
      },
      "outputs": [
        {
          "output_type": "execute_result",
          "data": {
            "text/plain": [
              "22"
            ]
          },
          "metadata": {},
          "execution_count": 14
        }
      ],
      "source": [
        "num_classes # must have 22"
      ]
    },
    {
      "cell_type": "code",
      "execution_count": 15,
      "id": "26c6890e",
      "metadata": {
        "colab": {
          "base_uri": "https://localhost:8080/"
        },
        "id": "26c6890e",
        "outputId": "427abc8e-c461-42f0-d538-8443ccb4afc1"
      },
      "outputs": [
        {
          "output_type": "execute_result",
          "data": {
            "text/plain": [
              "(6, 1)"
            ]
          },
          "metadata": {},
          "execution_count": 15
        }
      ],
      "source": [
        "input_shape"
      ]
    },
    {
      "cell_type": "code",
      "execution_count": 16,
      "id": "859aa647",
      "metadata": {
        "colab": {
          "base_uri": "https://localhost:8080/"
        },
        "id": "859aa647",
        "outputId": "ab6e5074-c386-4fd8-9330-777065df2cbd"
      },
      "outputs": [
        {
          "output_type": "execute_result",
          "data": {
            "text/plain": [
              "(58019, 6, 1)"
            ]
          },
          "metadata": {},
          "execution_count": 16
        }
      ],
      "source": [
        "x_train.shape"
      ]
    },
    {
      "cell_type": "code",
      "execution_count": 17,
      "id": "eab565dd",
      "metadata": {
        "colab": {
          "base_uri": "https://localhost:8080/"
        },
        "id": "eab565dd",
        "outputId": "47df7f50-1cc7-4737-d165-bb77411099d5"
      },
      "outputs": [
        {
          "output_type": "execute_result",
          "data": {
            "text/plain": [
              "(58019,)"
            ]
          },
          "metadata": {},
          "execution_count": 17
        }
      ],
      "source": [
        "y_train.shape"
      ]
    },
    {
      "cell_type": "code",
      "execution_count": 18,
      "id": "ab950213",
      "metadata": {
        "colab": {
          "base_uri": "https://localhost:8080/"
        },
        "id": "ab950213",
        "outputId": "feb03a79-4145-4c5f-edfb-c87be1fe6df7"
      },
      "outputs": [
        {
          "output_type": "execute_result",
          "data": {
            "text/plain": [
              "array([[-52.345882],\n",
              "       [ -4.18073 ],\n",
              "       [-74.069389],\n",
              "       [  1.115336],\n",
              "       [  1.569904],\n",
              "       [  0.711905]])"
            ]
          },
          "metadata": {},
          "execution_count": 18
        }
      ],
      "source": [
        "x_train[0]"
      ]
    },
    {
      "cell_type": "code",
      "execution_count": 19,
      "id": "7f11432f",
      "metadata": {
        "colab": {
          "base_uri": "https://localhost:8080/"
        },
        "id": "7f11432f",
        "outputId": "4cfa9df8-ae7d-431d-8965-db8d5b5fc4c1"
      },
      "outputs": [
        {
          "output_type": "execute_result",
          "data": {
            "text/plain": [
              "10"
            ]
          },
          "metadata": {},
          "execution_count": 19
        }
      ],
      "source": [
        "y_train[0]"
      ]
    },
    {
      "cell_type": "code",
      "execution_count": 25,
      "id": "cd51204b",
      "metadata": {
        "id": "cd51204b"
      },
      "outputs": [],
      "source": [
        "# Transformer Encoder function with dropout and L2 regularization\n",
        "def transformer_encoder(inputs, head_size, num_heads, ff_dim, dropout=0.1, l2_reg=0.01):\n",
        "\n",
        "    x = layers.MultiHeadAttention(key_dim=head_size, num_heads=num_heads, dropout=dropout)(inputs, inputs)\n",
        "    x = layers.Dropout(dropout)(x)\n",
        "    x = layers.LayerNormalization(epsilon=1e-6)(x)\n",
        "    res = x + inputs\n",
        "\n",
        "    # Feed-forward network with dropout and L2 regularization\n",
        "    x = layers.Dense(ff_dim, activation=\"relu\", kernel_regularizer=keras.regularizers.l2(l2_reg))(res)\n",
        "    x = layers.Dropout(dropout)(x)\n",
        "\n",
        "    x = layers.Dense(ff_dim, activation=\"relu\", kernel_regularizer=keras.regularizers.l2(l2_reg))(x)\n",
        "    x = layers.Dropout(dropout)(x)\n",
        "\n",
        "    x = layers.Dense(inputs.shape[-1], activation = 'softmax')(x)\n",
        "    x = layers.LayerNormalization(epsilon=1e-6)(x)\n",
        "\n",
        "    return x + res"
      ]
    },
    {
      "cell_type": "code",
      "execution_count": 26,
      "id": "9df843aa",
      "metadata": {
        "id": "9df843aa"
      },
      "outputs": [],
      "source": [
        "# Transformer Decoder function\n",
        "def transformer_decoder(inputs, enc_outputs, head_size, num_heads, ff_dim, dropout=0.1, l2_reg=0.01):\n",
        "    x = layers.MultiHeadAttention(key_dim=head_size, num_heads=num_heads, dropout=dropout)(inputs, inputs)\n",
        "    x = layers.Dropout(dropout)(x)\n",
        "    x = layers.LayerNormalization(epsilon=1e-6)(x)\n",
        "    res = x + inputs\n",
        "\n",
        "    x = layers.MultiHeadAttention(key_dim=head_size, num_heads=num_heads, dropout=dropout)(res, enc_outputs)\n",
        "    x = layers.Dropout(dropout)(x)\n",
        "    x = layers.LayerNormalization(epsilon=1e-6)(x)\n",
        "    x = x + res\n",
        "\n",
        "    # Feed-forward network\n",
        "    x = layers.Dense(ff_dim, activation=\"relu\", kernel_regularizer=keras.regularizers.l2(l2_reg))(x)\n",
        "    x = layers.Dropout(dropout)(x)\n",
        "\n",
        "    x = layers.Dense(ff_dim, activation=\"relu\", kernel_regularizer=keras.regularizers.l2(l2_reg))(x)\n",
        "    x = layers.Dropout(dropout)(x)\n",
        "\n",
        "    '''\n",
        "    YOU MAY WANT TO ADD OR REMOVE THESE TWO LINES HERE PRECISELY IN THIS PART OF THE CODE, PAY ATTENTION TO THE INDENTATION, PYTHON REQUIRES CONSISTENCY IN ORDER FOR THE CODE TO RUN CORRECTLY\n",
        "    x = layers.Dense(ff_dim, activation=\"relu\", kernel_regularizer=keras.regularizers.l2(l2_reg))(x)\n",
        "    x = layers.Dropout(dropout)(x)\n",
        "\n",
        "    '''\n",
        "\n",
        "    x = layers.Dense(ff_dim, activation=\"relu\", kernel_regularizer=keras.regularizers.l2(l2_reg))(x)\n",
        "    x = layers.Dropout(dropout)(x)\n",
        "\n",
        "    x = layers.Dense(inputs.shape[-1], activation = 'softmax')(x)\n",
        "    x = layers.LayerNormalization(epsilon=1e-6)(x)\n",
        "\n",
        "    return x + res\n"
      ]
    },
    {
      "cell_type": "code",
      "execution_count": 27,
      "id": "d9851305",
      "metadata": {
        "id": "d9851305"
      },
      "outputs": [],
      "source": [
        "# Build the model\n",
        "def build_model(input_shape, head_size, num_heads, ff_dim, num_transformer_blocks, mlp_units, dropout=0, mlp_dropout=0, l2_reg=0):\n",
        "    inputs = keras.Input(shape=input_shape)\n",
        "    x = inputs\n",
        "\n",
        "    # Encoder\n",
        "    for _ in range(num_transformer_blocks):\n",
        "        x = transformer_encoder(x, head_size, num_heads, ff_dim, dropout, l2_reg)\n",
        "\n",
        "\n",
        "    # Decoder\n",
        "    decoder_input = keras.Input(shape=input_shape)\n",
        "    dec = decoder_input\n",
        "    for _ in range(num_transformer_blocks):\n",
        "        dec = transformer_decoder(dec, x, head_size, num_heads, ff_dim, dropout, l2_reg)\n",
        "\n",
        "    x = layers.Flatten()(x)\n",
        "    dec = layers.Flatten()(dec)\n",
        "    x = layers.Concatenate()([x, dec])\n",
        "\n",
        "    for dim in mlp_units:\n",
        "        x = layers.Dense(dim, activation=\"relu\")(x)\n",
        "        x = layers.Dropout(mlp_dropout)(x)\n",
        "\n",
        "    outputs = layers.Dense(num_classes, activation=\"softmax\")(x)\n",
        "\n",
        "    model = keras.Model([inputs, decoder_input], outputs)\n",
        "    return model"
      ]
    },
    {
      "cell_type": "code",
      "execution_count": 28,
      "id": "1d648db6",
      "metadata": {
        "id": "1d648db6"
      },
      "outputs": [],
      "source": [
        "# Define the hyperparameters\n",
        "\"\"\"\n",
        "# THIS IS THE PART YOU SHOULD PLAY AROUND WITH\n",
        "# YOU MAY REDUCE THESE NUMBERS IF YOUR MACHINE IS OTHERWISE INCAPABLE OF RUNNING THE CODE\"\"\"\n",
        "\n",
        "head_size = 4\n",
        "num_heads = 4\n",
        "ff_dim = 256\n",
        "num_transformer_blocks = 4\n",
        "mlp_units = [256]\n",
        "dropout = 0.1\n",
        "mlp_dropout = 0.1\n",
        "initial_lr = 0.001\n",
        "l2_reg=0.01"
      ]
    },
    {
      "cell_type": "code",
      "execution_count": 29,
      "id": "6c794103",
      "metadata": {
        "id": "6c794103"
      },
      "outputs": [],
      "source": [
        "# Build the model\n",
        "model = build_model(input_shape, head_size, num_heads, ff_dim, num_transformer_blocks, mlp_units, dropout, mlp_dropout)"
      ]
    },
    {
      "cell_type": "code",
      "execution_count": 30,
      "id": "64e4c3ef",
      "metadata": {
        "id": "64e4c3ef"
      },
      "outputs": [],
      "source": [
        "# Create the optimizer with the initial learning rate\n",
        "optimizer = Adam(learning_rate=initial_lr)"
      ]
    },
    {
      "cell_type": "code",
      "execution_count": 31,
      "id": "0e19e795",
      "metadata": {
        "id": "0e19e795"
      },
      "outputs": [],
      "source": [
        "# Compile the model\n",
        "model.compile(optimizer=optimizer, loss=\"sparse_categorical_crossentropy\", metrics=[\"accuracy\"])"
      ]
    },
    {
      "cell_type": "code",
      "execution_count": 32,
      "id": "02a51f0f",
      "metadata": {
        "id": "02a51f0f"
      },
      "outputs": [],
      "source": [
        "# Create the ReduceLROnPlateau callback\n",
        "lr_callback = ReduceLROnPlateau(factor=0.1, patience=50)"
      ]
    },
    {
      "cell_type": "code",
      "execution_count": 33,
      "id": "511f6219",
      "metadata": {
        "id": "511f6219"
      },
      "outputs": [],
      "source": [
        "# Record the start time\n",
        "start_time = time.time()"
      ]
    },
    {
      "cell_type": "code",
      "execution_count": 35,
      "id": "19d80153",
      "metadata": {
        "colab": {
          "base_uri": "https://localhost:8080/"
        },
        "id": "19d80153",
        "outputId": "58ea0ded-778a-4770-9574-8a2577d4e715"
      },
      "outputs": [
        {
          "output_type": "stream",
          "name": "stdout",
          "text": [
            "Epoch 1/100\n",
            "907/907 [==============================] - 96s 65ms/step - loss: 2.0133 - accuracy: 0.4917 - val_loss: 0.8473 - val_accuracy: 0.6788 - lr: 0.0010\n",
            "Epoch 2/100\n",
            "907/907 [==============================] - 55s 61ms/step - loss: 0.8381 - accuracy: 0.6799 - val_loss: 0.6637 - val_accuracy: 0.7257 - lr: 0.0010\n",
            "Epoch 3/100\n",
            "907/907 [==============================] - 56s 61ms/step - loss: 0.6685 - accuracy: 0.7301 - val_loss: 0.6043 - val_accuracy: 0.7357 - lr: 0.0010\n",
            "Epoch 4/100\n",
            "907/907 [==============================] - 63s 69ms/step - loss: 0.5977 - accuracy: 0.7532 - val_loss: 0.5345 - val_accuracy: 0.7808 - lr: 0.0010\n",
            "Epoch 5/100\n",
            "907/907 [==============================] - 57s 63ms/step - loss: 0.5669 - accuracy: 0.7624 - val_loss: 0.5933 - val_accuracy: 0.7689 - lr: 0.0010\n",
            "Epoch 6/100\n",
            "907/907 [==============================] - 56s 62ms/step - loss: 0.5483 - accuracy: 0.7691 - val_loss: 0.5127 - val_accuracy: 0.7801 - lr: 0.0010\n",
            "Epoch 7/100\n",
            "907/907 [==============================] - 57s 63ms/step - loss: 0.5371 - accuracy: 0.7730 - val_loss: 0.4963 - val_accuracy: 0.7762 - lr: 0.0010\n",
            "Epoch 8/100\n",
            "907/907 [==============================] - 57s 63ms/step - loss: 0.5205 - accuracy: 0.7786 - val_loss: 0.4779 - val_accuracy: 0.7841 - lr: 0.0010\n",
            "Epoch 9/100\n",
            "907/907 [==============================] - 58s 64ms/step - loss: 0.5074 - accuracy: 0.7802 - val_loss: 0.4552 - val_accuracy: 0.8021 - lr: 0.0010\n",
            "Epoch 10/100\n",
            "907/907 [==============================] - 57s 62ms/step - loss: 0.4962 - accuracy: 0.7879 - val_loss: 0.4488 - val_accuracy: 0.8047 - lr: 0.0010\n",
            "Epoch 11/100\n",
            "907/907 [==============================] - 58s 64ms/step - loss: 0.4862 - accuracy: 0.7871 - val_loss: 0.4488 - val_accuracy: 0.8088 - lr: 0.0010\n",
            "Epoch 12/100\n",
            "907/907 [==============================] - 57s 63ms/step - loss: 0.4814 - accuracy: 0.7891 - val_loss: 0.4464 - val_accuracy: 0.8038 - lr: 0.0010\n",
            "Epoch 13/100\n",
            "907/907 [==============================] - 60s 66ms/step - loss: 0.4800 - accuracy: 0.7896 - val_loss: 0.4324 - val_accuracy: 0.8109 - lr: 0.0010\n",
            "Epoch 14/100\n",
            "907/907 [==============================] - 61s 67ms/step - loss: 0.4783 - accuracy: 0.7930 - val_loss: 0.4328 - val_accuracy: 0.8051 - lr: 0.0010\n",
            "Epoch 15/100\n",
            "907/907 [==============================] - 60s 66ms/step - loss: 0.4629 - accuracy: 0.7965 - val_loss: 0.4406 - val_accuracy: 0.8072 - lr: 0.0010\n",
            "Epoch 16/100\n",
            "907/907 [==============================] - 59s 65ms/step - loss: 0.4615 - accuracy: 0.7974 - val_loss: 0.4503 - val_accuracy: 0.8085 - lr: 0.0010\n",
            "Epoch 17/100\n",
            "907/907 [==============================] - 60s 66ms/step - loss: 0.4618 - accuracy: 0.7977 - val_loss: 0.4124 - val_accuracy: 0.8212 - lr: 0.0010\n",
            "Epoch 18/100\n",
            "907/907 [==============================] - 59s 65ms/step - loss: 0.4609 - accuracy: 0.7989 - val_loss: 0.4256 - val_accuracy: 0.8178 - lr: 0.0010\n",
            "Epoch 19/100\n",
            "907/907 [==============================] - 62s 68ms/step - loss: 0.4474 - accuracy: 0.8017 - val_loss: 0.3982 - val_accuracy: 0.8228 - lr: 0.0010\n",
            "Epoch 20/100\n",
            "907/907 [==============================] - 61s 68ms/step - loss: 0.4517 - accuracy: 0.8036 - val_loss: 0.4063 - val_accuracy: 0.8219 - lr: 0.0010\n",
            "Epoch 21/100\n",
            "907/907 [==============================] - 65s 71ms/step - loss: 0.4478 - accuracy: 0.8040 - val_loss: 0.4226 - val_accuracy: 0.8070 - lr: 0.0010\n",
            "Epoch 22/100\n",
            "907/907 [==============================] - 64s 70ms/step - loss: 0.4487 - accuracy: 0.8031 - val_loss: 0.4297 - val_accuracy: 0.8170 - lr: 0.0010\n",
            "Epoch 23/100\n",
            "907/907 [==============================] - 63s 70ms/step - loss: 0.4389 - accuracy: 0.8071 - val_loss: 0.4003 - val_accuracy: 0.8188 - lr: 0.0010\n",
            "Epoch 24/100\n",
            "907/907 [==============================] - 64s 71ms/step - loss: 0.4369 - accuracy: 0.8091 - val_loss: 0.4028 - val_accuracy: 0.8241 - lr: 0.0010\n",
            "Epoch 25/100\n",
            "907/907 [==============================] - 64s 71ms/step - loss: 0.4386 - accuracy: 0.8093 - val_loss: 0.4114 - val_accuracy: 0.8150 - lr: 0.0010\n",
            "Epoch 26/100\n",
            "907/907 [==============================] - 61s 67ms/step - loss: 0.4392 - accuracy: 0.8079 - val_loss: 0.3989 - val_accuracy: 0.8272 - lr: 0.0010\n",
            "Epoch 27/100\n",
            "907/907 [==============================] - 59s 65ms/step - loss: 0.4327 - accuracy: 0.8120 - val_loss: 0.3830 - val_accuracy: 0.8283 - lr: 0.0010\n",
            "Epoch 28/100\n",
            "907/907 [==============================] - 61s 67ms/step - loss: 0.4266 - accuracy: 0.8134 - val_loss: 0.3901 - val_accuracy: 0.8232 - lr: 0.0010\n",
            "Epoch 29/100\n",
            "907/907 [==============================] - 58s 64ms/step - loss: 0.4299 - accuracy: 0.8120 - val_loss: 0.3833 - val_accuracy: 0.8384 - lr: 0.0010\n",
            "Epoch 30/100\n",
            "907/907 [==============================] - 60s 66ms/step - loss: 0.4262 - accuracy: 0.8129 - val_loss: 0.4182 - val_accuracy: 0.8148 - lr: 0.0010\n",
            "Epoch 31/100\n",
            "907/907 [==============================] - 59s 65ms/step - loss: 0.4283 - accuracy: 0.8125 - val_loss: 0.4024 - val_accuracy: 0.8212 - lr: 0.0010\n",
            "Epoch 32/100\n",
            "907/907 [==============================] - 61s 67ms/step - loss: 0.4309 - accuracy: 0.8134 - val_loss: 0.3826 - val_accuracy: 0.8327 - lr: 0.0010\n",
            "Epoch 33/100\n",
            "907/907 [==============================] - 59s 65ms/step - loss: 0.4276 - accuracy: 0.8126 - val_loss: 0.3832 - val_accuracy: 0.8326 - lr: 0.0010\n",
            "Epoch 34/100\n",
            "907/907 [==============================] - 59s 65ms/step - loss: 0.4186 - accuracy: 0.8163 - val_loss: 0.3982 - val_accuracy: 0.8316 - lr: 0.0010\n",
            "Epoch 35/100\n",
            "907/907 [==============================] - 59s 65ms/step - loss: 0.4226 - accuracy: 0.8162 - val_loss: 0.3728 - val_accuracy: 0.8443 - lr: 0.0010\n",
            "Epoch 36/100\n",
            "907/907 [==============================] - 59s 65ms/step - loss: 0.4256 - accuracy: 0.8146 - val_loss: 0.3877 - val_accuracy: 0.8299 - lr: 0.0010\n",
            "Epoch 37/100\n",
            "907/907 [==============================] - 61s 67ms/step - loss: 0.4286 - accuracy: 0.8126 - val_loss: 0.3851 - val_accuracy: 0.8290 - lr: 0.0010\n",
            "Epoch 38/100\n",
            "907/907 [==============================] - 60s 66ms/step - loss: 0.4231 - accuracy: 0.8138 - val_loss: 0.3940 - val_accuracy: 0.8252 - lr: 0.0010\n",
            "Epoch 39/100\n",
            "907/907 [==============================] - 61s 67ms/step - loss: 0.4182 - accuracy: 0.8175 - val_loss: 0.3684 - val_accuracy: 0.8411 - lr: 0.0010\n",
            "Epoch 40/100\n",
            "907/907 [==============================] - 60s 66ms/step - loss: 0.4159 - accuracy: 0.8204 - val_loss: 0.3939 - val_accuracy: 0.8162 - lr: 0.0010\n",
            "Epoch 41/100\n",
            "907/907 [==============================] - 60s 66ms/step - loss: 0.4236 - accuracy: 0.8171 - val_loss: 0.3811 - val_accuracy: 0.8265 - lr: 0.0010\n",
            "Epoch 42/100\n",
            "907/907 [==============================] - 60s 67ms/step - loss: 0.4140 - accuracy: 0.8195 - val_loss: 0.3709 - val_accuracy: 0.8321 - lr: 0.0010\n",
            "Epoch 43/100\n",
            "907/907 [==============================] - 59s 65ms/step - loss: 0.4179 - accuracy: 0.8176 - val_loss: 0.3987 - val_accuracy: 0.8219 - lr: 0.0010\n",
            "Epoch 44/100\n",
            "907/907 [==============================] - 57s 63ms/step - loss: 0.4147 - accuracy: 0.8192 - val_loss: 0.3832 - val_accuracy: 0.8339 - lr: 0.0010\n",
            "Epoch 45/100\n",
            "907/907 [==============================] - 59s 65ms/step - loss: 0.4151 - accuracy: 0.8203 - val_loss: 0.3703 - val_accuracy: 0.8405 - lr: 0.0010\n",
            "Epoch 46/100\n",
            "907/907 [==============================] - 60s 67ms/step - loss: 0.4184 - accuracy: 0.8192 - val_loss: 0.3741 - val_accuracy: 0.8325 - lr: 0.0010\n",
            "Epoch 47/100\n",
            "907/907 [==============================] - 59s 65ms/step - loss: 0.4080 - accuracy: 0.8235 - val_loss: 0.3763 - val_accuracy: 0.8384 - lr: 0.0010\n",
            "Epoch 48/100\n",
            "907/907 [==============================] - 60s 66ms/step - loss: 0.4119 - accuracy: 0.8201 - val_loss: 0.3764 - val_accuracy: 0.8474 - lr: 0.0010\n",
            "Epoch 49/100\n",
            "907/907 [==============================] - 59s 65ms/step - loss: 0.4095 - accuracy: 0.8200 - val_loss: 0.3712 - val_accuracy: 0.8385 - lr: 0.0010\n",
            "Epoch 50/100\n",
            "907/907 [==============================] - 60s 66ms/step - loss: 0.4123 - accuracy: 0.8194 - val_loss: 0.3970 - val_accuracy: 0.8267 - lr: 0.0010\n",
            "Epoch 51/100\n",
            "907/907 [==============================] - 59s 65ms/step - loss: 0.4165 - accuracy: 0.8195 - val_loss: 0.3654 - val_accuracy: 0.8375 - lr: 0.0010\n",
            "Epoch 52/100\n",
            "907/907 [==============================] - 60s 66ms/step - loss: 0.4091 - accuracy: 0.8221 - val_loss: 0.3622 - val_accuracy: 0.8378 - lr: 0.0010\n",
            "Epoch 53/100\n",
            "907/907 [==============================] - 59s 65ms/step - loss: 0.4060 - accuracy: 0.8235 - val_loss: 0.3764 - val_accuracy: 0.8339 - lr: 0.0010\n",
            "Epoch 54/100\n",
            "907/907 [==============================] - 60s 66ms/step - loss: 0.4094 - accuracy: 0.8237 - val_loss: 0.3632 - val_accuracy: 0.8398 - lr: 0.0010\n",
            "Epoch 55/100\n",
            "907/907 [==============================] - 59s 65ms/step - loss: 0.4102 - accuracy: 0.8216 - val_loss: 0.3672 - val_accuracy: 0.8374 - lr: 0.0010\n",
            "Epoch 56/100\n",
            "907/907 [==============================] - 58s 63ms/step - loss: 0.4073 - accuracy: 0.8238 - val_loss: 0.3676 - val_accuracy: 0.8370 - lr: 0.0010\n",
            "Epoch 57/100\n",
            "907/907 [==============================] - 64s 71ms/step - loss: 0.4039 - accuracy: 0.8242 - val_loss: 0.3845 - val_accuracy: 0.8259 - lr: 0.0010\n",
            "Epoch 58/100\n",
            "907/907 [==============================] - 58s 63ms/step - loss: 0.4010 - accuracy: 0.8252 - val_loss: 0.3702 - val_accuracy: 0.8299 - lr: 0.0010\n",
            "Epoch 59/100\n",
            "907/907 [==============================] - 61s 67ms/step - loss: 0.4098 - accuracy: 0.8235 - val_loss: 0.3502 - val_accuracy: 0.8445 - lr: 0.0010\n",
            "Epoch 60/100\n",
            "907/907 [==============================] - 57s 63ms/step - loss: 0.4049 - accuracy: 0.8260 - val_loss: 0.3552 - val_accuracy: 0.8395 - lr: 0.0010\n",
            "Epoch 61/100\n",
            "907/907 [==============================] - 56s 62ms/step - loss: 0.4011 - accuracy: 0.8252 - val_loss: 0.3576 - val_accuracy: 0.8460 - lr: 0.0010\n",
            "Epoch 62/100\n",
            "907/907 [==============================] - 56s 62ms/step - loss: 0.3974 - accuracy: 0.8251 - val_loss: 0.3744 - val_accuracy: 0.8363 - lr: 0.0010\n",
            "Epoch 63/100\n",
            "907/907 [==============================] - 57s 63ms/step - loss: 0.4028 - accuracy: 0.8231 - val_loss: 0.3585 - val_accuracy: 0.8416 - lr: 0.0010\n",
            "Epoch 64/100\n",
            "907/907 [==============================] - 55s 60ms/step - loss: 0.3983 - accuracy: 0.8256 - val_loss: 0.3561 - val_accuracy: 0.8361 - lr: 0.0010\n",
            "Epoch 65/100\n",
            "907/907 [==============================] - 57s 63ms/step - loss: 0.4046 - accuracy: 0.8235 - val_loss: 0.3728 - val_accuracy: 0.8363 - lr: 0.0010\n",
            "Epoch 66/100\n",
            "907/907 [==============================] - 57s 63ms/step - loss: 0.4040 - accuracy: 0.8234 - val_loss: 0.3614 - val_accuracy: 0.8370 - lr: 0.0010\n",
            "Epoch 67/100\n",
            "907/907 [==============================] - 59s 65ms/step - loss: 0.4025 - accuracy: 0.8260 - val_loss: 0.3633 - val_accuracy: 0.8418 - lr: 0.0010\n",
            "Epoch 68/100\n",
            "907/907 [==============================] - 58s 63ms/step - loss: 0.4004 - accuracy: 0.8244 - val_loss: 0.3556 - val_accuracy: 0.8507 - lr: 0.0010\n",
            "Epoch 69/100\n",
            "907/907 [==============================] - 57s 63ms/step - loss: 0.3958 - accuracy: 0.8263 - val_loss: 0.3831 - val_accuracy: 0.8305 - lr: 0.0010\n",
            "Epoch 70/100\n",
            "907/907 [==============================] - 56s 62ms/step - loss: 0.4027 - accuracy: 0.8255 - val_loss: 0.3643 - val_accuracy: 0.8363 - lr: 0.0010\n",
            "Epoch 71/100\n",
            "907/907 [==============================] - 56s 62ms/step - loss: 0.3933 - accuracy: 0.8275 - val_loss: 0.3474 - val_accuracy: 0.8443 - lr: 0.0010\n",
            "Epoch 72/100\n",
            "907/907 [==============================] - 58s 64ms/step - loss: 0.4028 - accuracy: 0.8259 - val_loss: 0.4006 - val_accuracy: 0.8248 - lr: 0.0010\n",
            "Epoch 73/100\n",
            "907/907 [==============================] - 58s 64ms/step - loss: 0.3968 - accuracy: 0.8263 - val_loss: 0.3572 - val_accuracy: 0.8428 - lr: 0.0010\n",
            "Epoch 74/100\n",
            "907/907 [==============================] - 59s 65ms/step - loss: 0.3958 - accuracy: 0.8258 - val_loss: 0.3485 - val_accuracy: 0.8454 - lr: 0.0010\n",
            "Epoch 75/100\n",
            "907/907 [==============================] - 59s 65ms/step - loss: 0.3993 - accuracy: 0.8275 - val_loss: 0.3673 - val_accuracy: 0.8441 - lr: 0.0010\n",
            "Epoch 76/100\n",
            "907/907 [==============================] - 62s 68ms/step - loss: 0.3986 - accuracy: 0.8263 - val_loss: 0.3575 - val_accuracy: 0.8461 - lr: 0.0010\n",
            "Epoch 77/100\n",
            "907/907 [==============================] - 57s 63ms/step - loss: 0.3944 - accuracy: 0.8280 - val_loss: 0.3630 - val_accuracy: 0.8383 - lr: 0.0010\n",
            "Epoch 78/100\n",
            "907/907 [==============================] - 58s 64ms/step - loss: 0.3972 - accuracy: 0.8269 - val_loss: 0.3733 - val_accuracy: 0.8319 - lr: 0.0010\n",
            "Epoch 79/100\n",
            "907/907 [==============================] - 59s 65ms/step - loss: 0.3981 - accuracy: 0.8244 - val_loss: 0.3581 - val_accuracy: 0.8476 - lr: 0.0010\n",
            "Epoch 80/100\n",
            "907/907 [==============================] - 58s 64ms/step - loss: 0.4039 - accuracy: 0.8254 - val_loss: 0.3589 - val_accuracy: 0.8406 - lr: 0.0010\n",
            "Epoch 81/100\n",
            "907/907 [==============================] - 59s 65ms/step - loss: 0.4017 - accuracy: 0.8267 - val_loss: 0.3498 - val_accuracy: 0.8468 - lr: 0.0010\n",
            "Epoch 82/100\n",
            "907/907 [==============================] - 60s 66ms/step - loss: 0.3920 - accuracy: 0.8277 - val_loss: 0.3748 - val_accuracy: 0.8381 - lr: 0.0010\n",
            "Epoch 83/100\n",
            "907/907 [==============================] - 59s 65ms/step - loss: 0.3931 - accuracy: 0.8280 - val_loss: 0.3672 - val_accuracy: 0.8396 - lr: 0.0010\n",
            "Epoch 84/100\n",
            "907/907 [==============================] - 59s 65ms/step - loss: 0.4002 - accuracy: 0.8252 - val_loss: 0.3638 - val_accuracy: 0.8339 - lr: 0.0010\n",
            "Epoch 85/100\n",
            "907/907 [==============================] - 60s 67ms/step - loss: 0.3954 - accuracy: 0.8273 - val_loss: 0.3816 - val_accuracy: 0.8331 - lr: 0.0010\n",
            "Epoch 86/100\n",
            "907/907 [==============================] - 59s 65ms/step - loss: 0.3935 - accuracy: 0.8287 - val_loss: 0.3630 - val_accuracy: 0.8401 - lr: 0.0010\n",
            "Epoch 87/100\n",
            "907/907 [==============================] - 58s 64ms/step - loss: 0.3939 - accuracy: 0.8281 - val_loss: 0.3476 - val_accuracy: 0.8421 - lr: 0.0010\n",
            "Epoch 88/100\n",
            "907/907 [==============================] - 59s 65ms/step - loss: 0.3960 - accuracy: 0.8281 - val_loss: 0.3534 - val_accuracy: 0.8394 - lr: 0.0010\n",
            "Epoch 89/100\n",
            "907/907 [==============================] - 61s 67ms/step - loss: 0.3908 - accuracy: 0.8290 - val_loss: 0.3553 - val_accuracy: 0.8412 - lr: 0.0010\n",
            "Epoch 90/100\n",
            "907/907 [==============================] - 59s 65ms/step - loss: 0.3913 - accuracy: 0.8279 - val_loss: 0.3480 - val_accuracy: 0.8468 - lr: 0.0010\n",
            "Epoch 91/100\n",
            "907/907 [==============================] - 57s 63ms/step - loss: 0.4004 - accuracy: 0.8279 - val_loss: 0.3656 - val_accuracy: 0.8434 - lr: 0.0010\n",
            "Epoch 92/100\n",
            "907/907 [==============================] - 59s 65ms/step - loss: 0.3886 - accuracy: 0.8287 - val_loss: 0.3562 - val_accuracy: 0.8516 - lr: 0.0010\n",
            "Epoch 93/100\n",
            "907/907 [==============================] - 60s 66ms/step - loss: 0.3939 - accuracy: 0.8281 - val_loss: 0.3481 - val_accuracy: 0.8521 - lr: 0.0010\n",
            "Epoch 94/100\n",
            "907/907 [==============================] - 59s 65ms/step - loss: 0.3958 - accuracy: 0.8264 - val_loss: 0.3491 - val_accuracy: 0.8436 - lr: 0.0010\n",
            "Epoch 95/100\n",
            "907/907 [==============================] - 57s 63ms/step - loss: 0.3984 - accuracy: 0.8265 - val_loss: 0.3490 - val_accuracy: 0.8481 - lr: 0.0010\n",
            "Epoch 96/100\n",
            "907/907 [==============================] - 58s 64ms/step - loss: 0.3923 - accuracy: 0.8274 - val_loss: 0.4335 - val_accuracy: 0.8279 - lr: 0.0010\n",
            "Epoch 97/100\n",
            "907/907 [==============================] - 60s 66ms/step - loss: 0.3972 - accuracy: 0.8253 - val_loss: 0.3518 - val_accuracy: 0.8404 - lr: 0.0010\n",
            "Epoch 98/100\n",
            "907/907 [==============================] - 59s 65ms/step - loss: 0.3899 - accuracy: 0.8297 - val_loss: 0.3414 - val_accuracy: 0.8482 - lr: 0.0010\n",
            "Epoch 99/100\n",
            "907/907 [==============================] - 59s 65ms/step - loss: 0.3859 - accuracy: 0.8318 - val_loss: 0.3667 - val_accuracy: 0.8356 - lr: 0.0010\n",
            "Epoch 100/100\n",
            "907/907 [==============================] - 59s 65ms/step - loss: 0.3898 - accuracy: 0.8286 - val_loss: 0.3673 - val_accuracy: 0.8362 - lr: 0.0010\n"
          ]
        },
        {
          "output_type": "execute_result",
          "data": {
            "text/plain": [
              "<keras.src.callbacks.History at 0x7f6f70121f90>"
            ]
          },
          "metadata": {},
          "execution_count": 35
        }
      ],
      "source": [
        "model.fit([x_train, x_train], y_train,\n",
        "          batch_size=64,\n",
        "          epochs=100,\n",
        "          validation_data=([x_val, x_val], y_val),\n",
        "          callbacks=[lr_callback])"
      ]
    },
    {
      "cell_type": "code",
      "execution_count": 36,
      "id": "3ffe7d0c",
      "metadata": {
        "id": "3ffe7d0c"
      },
      "outputs": [],
      "source": [
        "# Record the end time\n",
        "end_time = time.time()"
      ]
    },
    {
      "cell_type": "code",
      "execution_count": 37,
      "id": "e8dd9c65",
      "metadata": {
        "colab": {
          "base_uri": "https://localhost:8080/"
        },
        "id": "e8dd9c65",
        "outputId": "2523a20f-19cb-4d72-e34c-e7630b2c2ec3"
      },
      "outputs": [
        {
          "output_type": "stream",
          "name": "stdout",
          "text": [
            "Total Running Time: 7235.95 seconds\n"
          ]
        }
      ],
      "source": [
        "# Calculate the total running time\n",
        "running_time = end_time - start_time\n",
        "print(\"Total Running Time: {:.2f} seconds\".format(running_time))"
      ]
    },
    {
      "cell_type": "code",
      "execution_count": 38,
      "id": "23ebca14",
      "metadata": {
        "id": "23ebca14",
        "colab": {
          "base_uri": "https://localhost:8080/"
        },
        "outputId": "4315e463-5903-4646-c2f6-2d713b90bd72"
      },
      "outputs": [
        {
          "output_type": "stream",
          "name": "stdout",
          "text": [
            "252/252 [==============================] - 5s 18ms/step - loss: 0.3612 - accuracy: 0.8433\n",
            "Test loss: 0.3611757755279541, Test accuracy: 0.8432807922363281\n"
          ]
        }
      ],
      "source": [
        "# Evaluate the model\n",
        "loss, accuracy = model.evaluate([x_test, x_test], y_test)\n",
        "print(f\"Test loss: {loss}, Test accuracy: {accuracy}\")"
      ]
    },
    {
      "cell_type": "code",
      "execution_count": 39,
      "id": "78f8e19d",
      "metadata": {
        "colab": {
          "base_uri": "https://localhost:8080/"
        },
        "id": "78f8e19d",
        "outputId": "c0ff67e0-b9c9-4314-ac7a-3f7ae1c6fc57"
      },
      "outputs": [
        {
          "output_type": "stream",
          "name": "stderr",
          "text": [
            "/usr/local/lib/python3.10/dist-packages/keras/src/engine/training.py:3103: UserWarning: You are saving your model as an HDF5 file via `model.save()`. This file format is considered legacy. We recommend using instead the native Keras format, e.g. `model.save('my_model.keras')`.\n",
            "  saving_api.save_model(\n"
          ]
        }
      ],
      "source": [
        "# Save the trained model\n",
        "model.save(\"my_model.h5\")"
      ]
    }
  ],
  "metadata": {
    "accelerator": "GPU",
    "colab": {
      "provenance": []
    },
    "kernelspec": {
      "display_name": "Python 3 (ipykernel)",
      "language": "python",
      "name": "python3"
    },
    "language_info": {
      "codemirror_mode": {
        "name": "ipython",
        "version": 3
      },
      "file_extension": ".py",
      "mimetype": "text/x-python",
      "name": "python",
      "nbconvert_exporter": "python",
      "pygments_lexer": "ipython3",
      "version": "3.10.7"
    }
  },
  "nbformat": 4,
  "nbformat_minor": 5
}