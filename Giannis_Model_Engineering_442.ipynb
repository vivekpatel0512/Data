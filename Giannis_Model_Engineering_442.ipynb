{
  "cells": [
    {
      "cell_type": "markdown",
      "metadata": {
        "id": "view-in-github",
        "colab_type": "text"
      },
      "source": [
        "<a href=\"https://colab.research.google.com/github/vivekpatel0512/Data/blob/main/Giannis_Model_Engineering_442.ipynb\" target=\"_parent\"><img src=\"https://colab.research.google.com/assets/colab-badge.svg\" alt=\"Open In Colab\"/></a>"
      ]
    },
    {
      "cell_type": "code",
      "execution_count": 1,
      "metadata": {
        "colab": {
          "base_uri": "https://localhost:8080/",
          "height": 105
        },
        "id": "da645ec0",
        "outputId": "a8b0a22e-ef97-4305-da12-b98cd6af4168"
      },
      "outputs": [
        {
          "output_type": "execute_result",
          "data": {
            "text/plain": [
              "\"\\nYOUR TASKS:\\n\\n1. SPECIFY THE URL OR PATH TO YOUR DATA, REMEMBER - YOU FIRST HAVE TO DOWNLOAD IT.\\n2. CLICK RUN ALL OR RESTART AND RUN ALL BUTTON TO RUN THE CODE. THIS CODE RUNS IN A CHRONOLOGICAL MANNER - THE TOP BLOCKS MUST PRECEED THE BOTTOM ONES,\\n                                                                                                            i.e. don't run stuff from the bottom first, otherwise the code won't work properly.\\n3. NEAR THE END OF THE CODE, YOU WILL SEE YOUR EPOCH METRICS, AS I STATED IN CLASS, YOU WANT THE ACCURACY TO APPROACH 100% =1.0 AND THE LOSS TO APPROACH 0\\n4. IN CASE IF YOUR MODEL IS STRUGGLING TO REACH THESE RESULTS AND IS INSTEAD STUCK AT A LOW ACCURACY, NAVIGATE TO THE BLOCK OF CODE WITH HYPERPARAMETERS AND CHANGE THESE NUMBERS,\\nTHEN, TRY RUNNING THE CODE AGAIN AND SEE HOW YOUR MODEL IS PERFORMING; REPEAT UNTIL YOU REACH A PLAUSIBLE RESULT (ONE THAT IS BETTER THAN A COIN TOSS IN TERMS OF PREDICTION ACCURACY IN THE WORST CASE)\\n5. SAVE YOUR RESULTS => THE CODE INCLUDES A BLOCK WHICH WILL SAVE YOUR MODEL TO A .h5 FILE,\\n - KEEP THE OUTPUTS OF THIS NOTEBOOK AS WELL, YOU WILL WANT TO DEMONSTRATE HOW THE TRAINING PROCESS WENT.\\n - BE MINDFUL OF THE TIME YOU HAVE IF YOU CHOOSE TO USE GOOGLE COLLABORATORY INSTEAD OF YOUR OWN MACHINE AS THEIR VMs ONLY OFFER YOU A COUPLE OF HOURS OF USAGE.\\n\""
            ],
            "application/vnd.google.colaboratory.intrinsic+json": {
              "type": "string"
            }
          },
          "metadata": {},
          "execution_count": 1
        }
      ],
      "source": [
        "'''\n",
        "YOUR TASKS:\n",
        "\n",
        "1. SPECIFY THE URL OR PATH TO YOUR DATA, REMEMBER - YOU FIRST HAVE TO DOWNLOAD IT.\n",
        "2. CLICK RUN ALL OR RESTART AND RUN ALL BUTTON TO RUN THE CODE. THIS CODE RUNS IN A CHRONOLOGICAL MANNER - THE TOP BLOCKS MUST PRECEED THE BOTTOM ONES,\n",
        "                                                                                                            i.e. don't run stuff from the bottom first, otherwise the code won't work properly.\n",
        "3. NEAR THE END OF THE CODE, YOU WILL SEE YOUR EPOCH METRICS, AS I STATED IN CLASS, YOU WANT THE ACCURACY TO APPROACH 100% =1.0 AND THE LOSS TO APPROACH 0\n",
        "4. IN CASE IF YOUR MODEL IS STRUGGLING TO REACH THESE RESULTS AND IS INSTEAD STUCK AT A LOW ACCURACY, NAVIGATE TO THE BLOCK OF CODE WITH HYPERPARAMETERS AND CHANGE THESE NUMBERS,\n",
        "THEN, TRY RUNNING THE CODE AGAIN AND SEE HOW YOUR MODEL IS PERFORMING; REPEAT UNTIL YOU REACH A PLAUSIBLE RESULT (ONE THAT IS BETTER THAN A COIN TOSS IN TERMS OF PREDICTION ACCURACY IN THE WORST CASE)\n",
        "5. SAVE YOUR RESULTS => THE CODE INCLUDES A BLOCK WHICH WILL SAVE YOUR MODEL TO A .h5 FILE,\n",
        " - KEEP THE OUTPUTS OF THIS NOTEBOOK AS WELL, YOU WILL WANT TO DEMONSTRATE HOW THE TRAINING PROCESS WENT.\n",
        " - BE MINDFUL OF THE TIME YOU HAVE IF YOU CHOOSE TO USE GOOGLE COLLABORATORY INSTEAD OF YOUR OWN MACHINE AS THEIR VMs ONLY OFFER YOU A COUPLE OF HOURS OF USAGE.\n",
        "'''"
      ],
      "id": "da645ec0"
    },
    {
      "cell_type": "code",
      "execution_count": 2,
      "metadata": {
        "id": "dd77aa5b"
      },
      "outputs": [],
      "source": [
        "import numpy as np\n",
        "import pandas as pd\n",
        "import tensorflow as tf\n",
        "from sklearn.model_selection import train_test_split\n",
        "from tensorflow import keras\n",
        "from tensorflow.keras import layers\n",
        "from tensorflow.keras.models import load_model\n",
        "from tensorflow.keras.optimizers import Adam\n",
        "from tensorflow.keras.callbacks import ReduceLROnPlateau, EarlyStopping\n",
        "from sklearn.metrics import confusion_matrix\n",
        "import seaborn as sns\n",
        "from sklearn.preprocessing import LabelEncoder\n",
        "import matplotlib.pyplot as plt\n",
        "import time"
      ],
      "id": "dd77aa5b"
    },
    {
      "cell_type": "code",
      "execution_count": 3,
      "metadata": {
        "colab": {
          "base_uri": "https://localhost:8080/"
        },
        "id": "f16df2f1",
        "outputId": "d7b9e67d-f0ac-4e48-9629-0bfb570c8bf7"
      },
      "outputs": [
        {
          "output_type": "stream",
          "name": "stderr",
          "text": [
            "<ipython-input-3-955546b8708d>:10: DeprecationWarning: In a future version, `df.iloc[:, i] = newvals` will attempt to set the values inplace instead of always setting a new array. To retain the old behavior, use either `df[df.columns[i]] = newvals` or, if columns are non-unique, `df.isetitem(i, newvals)`\n",
            "  data.iloc[:, -1] = label_encoder.fit_transform(data.iloc[:, -1])\n"
          ]
        }
      ],
      "source": [
        "# Function to read the data\n",
        "def read_data(filename):\n",
        "    data = pd.read_csv(filename)\n",
        "\n",
        "    # Extract features\n",
        "    features = data.iloc[:,1 :-1].values\n",
        "\n",
        "    # Extract and encode labels\n",
        "    label_encoder = LabelEncoder()\n",
        "    data.iloc[:, -1] = label_encoder.fit_transform(data.iloc[:, -1])\n",
        "    labels = data.iloc[:, -1].values\n",
        "\n",
        "    return features, labels\n",
        "# Read the data\n",
        "data_url = 'https://raw.githubusercontent.com/vivekpatel0512/Data/main/GiannisData.csv'# enter your data URL or PATH here in enclosed in \" \" IF YOUR NOTEBOOK IS IN THE SAME FOLDER AS data.csv, which is your data you downloaded, then this will run as it is.\n",
        "                    # otherwise, you have to specify a different path or url\n",
        "x, y = read_data(data_url)"
      ],
      "id": "f16df2f1"
    },
    {
      "cell_type": "code",
      "execution_count": 4,
      "metadata": {
        "id": "773378f4"
      },
      "outputs": [],
      "source": [
        "df = pd.read_csv('https://raw.githubusercontent.com/vivekpatel0512/Data/main/GiannisData.csv?token=GHSAT0AAAAAACL2CW32X73NYQUBURKWLY2IZMB7DEQ') ## THIS AND THE BLOCK OF CODE IMMEDIATELY AFTER THIS ARE OPTIONAL, THIS IS INTENDED TO HELP YOU VISUALIZE YOUR DATASET"
      ],
      "id": "773378f4"
    },
    {
      "cell_type": "code",
      "execution_count": 5,
      "metadata": {
        "colab": {
          "base_uri": "https://localhost:8080/",
          "height": 424
        },
        "id": "c4345daf",
        "outputId": "257ef829-9ac3-4751-ce8b-0e2d43d02ca7"
      },
      "outputs": [
        {
          "output_type": "execute_result",
          "data": {
            "text/plain": [
              "       Time (Seconds)  x-rotation  y-rotation  z-rotation  x-position  \\\n",
              "0            0.000000   66.893059   28.993618   36.084240    0.515831   \n",
              "1            0.008333   67.282249   29.265507   35.803356    0.517074   \n",
              "2            0.016667   67.710846   29.155834   35.561733    0.518067   \n",
              "3            0.025000   68.166092   29.214745   35.053162    0.519112   \n",
              "4            0.033333   68.527603   29.090439   34.850899    0.519968   \n",
              "...               ...         ...         ...         ...         ...   \n",
              "80929       30.675000   92.035316   23.119925    1.500853    0.224158   \n",
              "80930       30.683333   92.019371   23.028803    1.969907    0.222911   \n",
              "80931       30.691667   92.027100   22.982128    2.465590    0.221710   \n",
              "80932       30.700000   92.021141   22.939436    2.921563    0.220488   \n",
              "80933       30.708333   92.023987   22.916149    3.383323    0.219342   \n",
              "\n",
              "       y-position  z-position                  label  \n",
              "0        1.269838   -0.100013      Sit_VidCall_Phone  \n",
              "1        1.269779   -0.099336      Sit_VidCall_Phone  \n",
              "2        1.269713   -0.098827      Sit_VidCall_Phone  \n",
              "3        1.269701   -0.098306      Sit_VidCall_Phone  \n",
              "4        1.269657   -0.097927      Sit_VidCall_Phone  \n",
              "...           ...         ...                    ...  \n",
              "80929    1.466464    1.143513  Walk_WebBrowse_Tablet  \n",
              "80930    1.466851    1.136293  Walk_WebBrowse_Tablet  \n",
              "80931    1.467335    1.129124  Walk_WebBrowse_Tablet  \n",
              "80932    1.467851    1.121862  Walk_WebBrowse_Tablet  \n",
              "80933    1.468414    1.114650  Walk_WebBrowse_Tablet  \n",
              "\n",
              "[80934 rows x 8 columns]"
            ],
            "text/html": [
              "\n",
              "  <div id=\"df-0a2556f2-970a-46fe-a045-31d76851a29e\" class=\"colab-df-container\">\n",
              "    <div>\n",
              "<style scoped>\n",
              "    .dataframe tbody tr th:only-of-type {\n",
              "        vertical-align: middle;\n",
              "    }\n",
              "\n",
              "    .dataframe tbody tr th {\n",
              "        vertical-align: top;\n",
              "    }\n",
              "\n",
              "    .dataframe thead th {\n",
              "        text-align: right;\n",
              "    }\n",
              "</style>\n",
              "<table border=\"1\" class=\"dataframe\">\n",
              "  <thead>\n",
              "    <tr style=\"text-align: right;\">\n",
              "      <th></th>\n",
              "      <th>Time (Seconds)</th>\n",
              "      <th>x-rotation</th>\n",
              "      <th>y-rotation</th>\n",
              "      <th>z-rotation</th>\n",
              "      <th>x-position</th>\n",
              "      <th>y-position</th>\n",
              "      <th>z-position</th>\n",
              "      <th>label</th>\n",
              "    </tr>\n",
              "  </thead>\n",
              "  <tbody>\n",
              "    <tr>\n",
              "      <th>0</th>\n",
              "      <td>0.000000</td>\n",
              "      <td>66.893059</td>\n",
              "      <td>28.993618</td>\n",
              "      <td>36.084240</td>\n",
              "      <td>0.515831</td>\n",
              "      <td>1.269838</td>\n",
              "      <td>-0.100013</td>\n",
              "      <td>Sit_VidCall_Phone</td>\n",
              "    </tr>\n",
              "    <tr>\n",
              "      <th>1</th>\n",
              "      <td>0.008333</td>\n",
              "      <td>67.282249</td>\n",
              "      <td>29.265507</td>\n",
              "      <td>35.803356</td>\n",
              "      <td>0.517074</td>\n",
              "      <td>1.269779</td>\n",
              "      <td>-0.099336</td>\n",
              "      <td>Sit_VidCall_Phone</td>\n",
              "    </tr>\n",
              "    <tr>\n",
              "      <th>2</th>\n",
              "      <td>0.016667</td>\n",
              "      <td>67.710846</td>\n",
              "      <td>29.155834</td>\n",
              "      <td>35.561733</td>\n",
              "      <td>0.518067</td>\n",
              "      <td>1.269713</td>\n",
              "      <td>-0.098827</td>\n",
              "      <td>Sit_VidCall_Phone</td>\n",
              "    </tr>\n",
              "    <tr>\n",
              "      <th>3</th>\n",
              "      <td>0.025000</td>\n",
              "      <td>68.166092</td>\n",
              "      <td>29.214745</td>\n",
              "      <td>35.053162</td>\n",
              "      <td>0.519112</td>\n",
              "      <td>1.269701</td>\n",
              "      <td>-0.098306</td>\n",
              "      <td>Sit_VidCall_Phone</td>\n",
              "    </tr>\n",
              "    <tr>\n",
              "      <th>4</th>\n",
              "      <td>0.033333</td>\n",
              "      <td>68.527603</td>\n",
              "      <td>29.090439</td>\n",
              "      <td>34.850899</td>\n",
              "      <td>0.519968</td>\n",
              "      <td>1.269657</td>\n",
              "      <td>-0.097927</td>\n",
              "      <td>Sit_VidCall_Phone</td>\n",
              "    </tr>\n",
              "    <tr>\n",
              "      <th>...</th>\n",
              "      <td>...</td>\n",
              "      <td>...</td>\n",
              "      <td>...</td>\n",
              "      <td>...</td>\n",
              "      <td>...</td>\n",
              "      <td>...</td>\n",
              "      <td>...</td>\n",
              "      <td>...</td>\n",
              "    </tr>\n",
              "    <tr>\n",
              "      <th>80929</th>\n",
              "      <td>30.675000</td>\n",
              "      <td>92.035316</td>\n",
              "      <td>23.119925</td>\n",
              "      <td>1.500853</td>\n",
              "      <td>0.224158</td>\n",
              "      <td>1.466464</td>\n",
              "      <td>1.143513</td>\n",
              "      <td>Walk_WebBrowse_Tablet</td>\n",
              "    </tr>\n",
              "    <tr>\n",
              "      <th>80930</th>\n",
              "      <td>30.683333</td>\n",
              "      <td>92.019371</td>\n",
              "      <td>23.028803</td>\n",
              "      <td>1.969907</td>\n",
              "      <td>0.222911</td>\n",
              "      <td>1.466851</td>\n",
              "      <td>1.136293</td>\n",
              "      <td>Walk_WebBrowse_Tablet</td>\n",
              "    </tr>\n",
              "    <tr>\n",
              "      <th>80931</th>\n",
              "      <td>30.691667</td>\n",
              "      <td>92.027100</td>\n",
              "      <td>22.982128</td>\n",
              "      <td>2.465590</td>\n",
              "      <td>0.221710</td>\n",
              "      <td>1.467335</td>\n",
              "      <td>1.129124</td>\n",
              "      <td>Walk_WebBrowse_Tablet</td>\n",
              "    </tr>\n",
              "    <tr>\n",
              "      <th>80932</th>\n",
              "      <td>30.700000</td>\n",
              "      <td>92.021141</td>\n",
              "      <td>22.939436</td>\n",
              "      <td>2.921563</td>\n",
              "      <td>0.220488</td>\n",
              "      <td>1.467851</td>\n",
              "      <td>1.121862</td>\n",
              "      <td>Walk_WebBrowse_Tablet</td>\n",
              "    </tr>\n",
              "    <tr>\n",
              "      <th>80933</th>\n",
              "      <td>30.708333</td>\n",
              "      <td>92.023987</td>\n",
              "      <td>22.916149</td>\n",
              "      <td>3.383323</td>\n",
              "      <td>0.219342</td>\n",
              "      <td>1.468414</td>\n",
              "      <td>1.114650</td>\n",
              "      <td>Walk_WebBrowse_Tablet</td>\n",
              "    </tr>\n",
              "  </tbody>\n",
              "</table>\n",
              "<p>80934 rows × 8 columns</p>\n",
              "</div>\n",
              "    <div class=\"colab-df-buttons\">\n",
              "\n",
              "  <div class=\"colab-df-container\">\n",
              "    <button class=\"colab-df-convert\" onclick=\"convertToInteractive('df-0a2556f2-970a-46fe-a045-31d76851a29e')\"\n",
              "            title=\"Convert this dataframe to an interactive table.\"\n",
              "            style=\"display:none;\">\n",
              "\n",
              "  <svg xmlns=\"http://www.w3.org/2000/svg\" height=\"24px\" viewBox=\"0 -960 960 960\">\n",
              "    <path d=\"M120-120v-720h720v720H120Zm60-500h600v-160H180v160Zm220 220h160v-160H400v160Zm0 220h160v-160H400v160ZM180-400h160v-160H180v160Zm440 0h160v-160H620v160ZM180-180h160v-160H180v160Zm440 0h160v-160H620v160Z\"/>\n",
              "  </svg>\n",
              "    </button>\n",
              "\n",
              "  <style>\n",
              "    .colab-df-container {\n",
              "      display:flex;\n",
              "      gap: 12px;\n",
              "    }\n",
              "\n",
              "    .colab-df-convert {\n",
              "      background-color: #E8F0FE;\n",
              "      border: none;\n",
              "      border-radius: 50%;\n",
              "      cursor: pointer;\n",
              "      display: none;\n",
              "      fill: #1967D2;\n",
              "      height: 32px;\n",
              "      padding: 0 0 0 0;\n",
              "      width: 32px;\n",
              "    }\n",
              "\n",
              "    .colab-df-convert:hover {\n",
              "      background-color: #E2EBFA;\n",
              "      box-shadow: 0px 1px 2px rgba(60, 64, 67, 0.3), 0px 1px 3px 1px rgba(60, 64, 67, 0.15);\n",
              "      fill: #174EA6;\n",
              "    }\n",
              "\n",
              "    .colab-df-buttons div {\n",
              "      margin-bottom: 4px;\n",
              "    }\n",
              "\n",
              "    [theme=dark] .colab-df-convert {\n",
              "      background-color: #3B4455;\n",
              "      fill: #D2E3FC;\n",
              "    }\n",
              "\n",
              "    [theme=dark] .colab-df-convert:hover {\n",
              "      background-color: #434B5C;\n",
              "      box-shadow: 0px 1px 3px 1px rgba(0, 0, 0, 0.15);\n",
              "      filter: drop-shadow(0px 1px 2px rgba(0, 0, 0, 0.3));\n",
              "      fill: #FFFFFF;\n",
              "    }\n",
              "  </style>\n",
              "\n",
              "    <script>\n",
              "      const buttonEl =\n",
              "        document.querySelector('#df-0a2556f2-970a-46fe-a045-31d76851a29e button.colab-df-convert');\n",
              "      buttonEl.style.display =\n",
              "        google.colab.kernel.accessAllowed ? 'block' : 'none';\n",
              "\n",
              "      async function convertToInteractive(key) {\n",
              "        const element = document.querySelector('#df-0a2556f2-970a-46fe-a045-31d76851a29e');\n",
              "        const dataTable =\n",
              "          await google.colab.kernel.invokeFunction('convertToInteractive',\n",
              "                                                    [key], {});\n",
              "        if (!dataTable) return;\n",
              "\n",
              "        const docLinkHtml = 'Like what you see? Visit the ' +\n",
              "          '<a target=\"_blank\" href=https://colab.research.google.com/notebooks/data_table.ipynb>data table notebook</a>'\n",
              "          + ' to learn more about interactive tables.';\n",
              "        element.innerHTML = '';\n",
              "        dataTable['output_type'] = 'display_data';\n",
              "        await google.colab.output.renderOutput(dataTable, element);\n",
              "        const docLink = document.createElement('div');\n",
              "        docLink.innerHTML = docLinkHtml;\n",
              "        element.appendChild(docLink);\n",
              "      }\n",
              "    </script>\n",
              "  </div>\n",
              "\n",
              "\n",
              "<div id=\"df-28c32e8b-bd83-4804-8c8d-d6467f3e2fbe\">\n",
              "  <button class=\"colab-df-quickchart\" onclick=\"quickchart('df-28c32e8b-bd83-4804-8c8d-d6467f3e2fbe')\"\n",
              "            title=\"Suggest charts\"\n",
              "            style=\"display:none;\">\n",
              "\n",
              "<svg xmlns=\"http://www.w3.org/2000/svg\" height=\"24px\"viewBox=\"0 0 24 24\"\n",
              "     width=\"24px\">\n",
              "    <g>\n",
              "        <path d=\"M19 3H5c-1.1 0-2 .9-2 2v14c0 1.1.9 2 2 2h14c1.1 0 2-.9 2-2V5c0-1.1-.9-2-2-2zM9 17H7v-7h2v7zm4 0h-2V7h2v10zm4 0h-2v-4h2v4z\"/>\n",
              "    </g>\n",
              "</svg>\n",
              "  </button>\n",
              "\n",
              "<style>\n",
              "  .colab-df-quickchart {\n",
              "      --bg-color: #E8F0FE;\n",
              "      --fill-color: #1967D2;\n",
              "      --hover-bg-color: #E2EBFA;\n",
              "      --hover-fill-color: #174EA6;\n",
              "      --disabled-fill-color: #AAA;\n",
              "      --disabled-bg-color: #DDD;\n",
              "  }\n",
              "\n",
              "  [theme=dark] .colab-df-quickchart {\n",
              "      --bg-color: #3B4455;\n",
              "      --fill-color: #D2E3FC;\n",
              "      --hover-bg-color: #434B5C;\n",
              "      --hover-fill-color: #FFFFFF;\n",
              "      --disabled-bg-color: #3B4455;\n",
              "      --disabled-fill-color: #666;\n",
              "  }\n",
              "\n",
              "  .colab-df-quickchart {\n",
              "    background-color: var(--bg-color);\n",
              "    border: none;\n",
              "    border-radius: 50%;\n",
              "    cursor: pointer;\n",
              "    display: none;\n",
              "    fill: var(--fill-color);\n",
              "    height: 32px;\n",
              "    padding: 0;\n",
              "    width: 32px;\n",
              "  }\n",
              "\n",
              "  .colab-df-quickchart:hover {\n",
              "    background-color: var(--hover-bg-color);\n",
              "    box-shadow: 0 1px 2px rgba(60, 64, 67, 0.3), 0 1px 3px 1px rgba(60, 64, 67, 0.15);\n",
              "    fill: var(--button-hover-fill-color);\n",
              "  }\n",
              "\n",
              "  .colab-df-quickchart-complete:disabled,\n",
              "  .colab-df-quickchart-complete:disabled:hover {\n",
              "    background-color: var(--disabled-bg-color);\n",
              "    fill: var(--disabled-fill-color);\n",
              "    box-shadow: none;\n",
              "  }\n",
              "\n",
              "  .colab-df-spinner {\n",
              "    border: 2px solid var(--fill-color);\n",
              "    border-color: transparent;\n",
              "    border-bottom-color: var(--fill-color);\n",
              "    animation:\n",
              "      spin 1s steps(1) infinite;\n",
              "  }\n",
              "\n",
              "  @keyframes spin {\n",
              "    0% {\n",
              "      border-color: transparent;\n",
              "      border-bottom-color: var(--fill-color);\n",
              "      border-left-color: var(--fill-color);\n",
              "    }\n",
              "    20% {\n",
              "      border-color: transparent;\n",
              "      border-left-color: var(--fill-color);\n",
              "      border-top-color: var(--fill-color);\n",
              "    }\n",
              "    30% {\n",
              "      border-color: transparent;\n",
              "      border-left-color: var(--fill-color);\n",
              "      border-top-color: var(--fill-color);\n",
              "      border-right-color: var(--fill-color);\n",
              "    }\n",
              "    40% {\n",
              "      border-color: transparent;\n",
              "      border-right-color: var(--fill-color);\n",
              "      border-top-color: var(--fill-color);\n",
              "    }\n",
              "    60% {\n",
              "      border-color: transparent;\n",
              "      border-right-color: var(--fill-color);\n",
              "    }\n",
              "    80% {\n",
              "      border-color: transparent;\n",
              "      border-right-color: var(--fill-color);\n",
              "      border-bottom-color: var(--fill-color);\n",
              "    }\n",
              "    90% {\n",
              "      border-color: transparent;\n",
              "      border-bottom-color: var(--fill-color);\n",
              "    }\n",
              "  }\n",
              "</style>\n",
              "\n",
              "  <script>\n",
              "    async function quickchart(key) {\n",
              "      const quickchartButtonEl =\n",
              "        document.querySelector('#' + key + ' button');\n",
              "      quickchartButtonEl.disabled = true;  // To prevent multiple clicks.\n",
              "      quickchartButtonEl.classList.add('colab-df-spinner');\n",
              "      try {\n",
              "        const charts = await google.colab.kernel.invokeFunction(\n",
              "            'suggestCharts', [key], {});\n",
              "      } catch (error) {\n",
              "        console.error('Error during call to suggestCharts:', error);\n",
              "      }\n",
              "      quickchartButtonEl.classList.remove('colab-df-spinner');\n",
              "      quickchartButtonEl.classList.add('colab-df-quickchart-complete');\n",
              "    }\n",
              "    (() => {\n",
              "      let quickchartButtonEl =\n",
              "        document.querySelector('#df-28c32e8b-bd83-4804-8c8d-d6467f3e2fbe button');\n",
              "      quickchartButtonEl.style.display =\n",
              "        google.colab.kernel.accessAllowed ? 'block' : 'none';\n",
              "    })();\n",
              "  </script>\n",
              "</div>\n",
              "\n",
              "  <div id=\"id_76338f66-9a46-4593-a525-24c9275f5438\">\n",
              "    <style>\n",
              "      .colab-df-generate {\n",
              "        background-color: #E8F0FE;\n",
              "        border: none;\n",
              "        border-radius: 50%;\n",
              "        cursor: pointer;\n",
              "        display: none;\n",
              "        fill: #1967D2;\n",
              "        height: 32px;\n",
              "        padding: 0 0 0 0;\n",
              "        width: 32px;\n",
              "      }\n",
              "\n",
              "      .colab-df-generate:hover {\n",
              "        background-color: #E2EBFA;\n",
              "        box-shadow: 0px 1px 2px rgba(60, 64, 67, 0.3), 0px 1px 3px 1px rgba(60, 64, 67, 0.15);\n",
              "        fill: #174EA6;\n",
              "      }\n",
              "\n",
              "      [theme=dark] .colab-df-generate {\n",
              "        background-color: #3B4455;\n",
              "        fill: #D2E3FC;\n",
              "      }\n",
              "\n",
              "      [theme=dark] .colab-df-generate:hover {\n",
              "        background-color: #434B5C;\n",
              "        box-shadow: 0px 1px 3px 1px rgba(0, 0, 0, 0.15);\n",
              "        filter: drop-shadow(0px 1px 2px rgba(0, 0, 0, 0.3));\n",
              "        fill: #FFFFFF;\n",
              "      }\n",
              "    </style>\n",
              "    <button class=\"colab-df-generate\" onclick=\"generateWithVariable('df')\"\n",
              "            title=\"Generate code using this dataframe.\"\n",
              "            style=\"display:none;\">\n",
              "\n",
              "  <svg xmlns=\"http://www.w3.org/2000/svg\" height=\"24px\"viewBox=\"0 0 24 24\"\n",
              "       width=\"24px\">\n",
              "    <path d=\"M7,19H8.4L18.45,9,17,7.55,7,17.6ZM5,21V16.75L18.45,3.32a2,2,0,0,1,2.83,0l1.4,1.43a1.91,1.91,0,0,1,.58,1.4,1.91,1.91,0,0,1-.58,1.4L9.25,21ZM18.45,9,17,7.55Zm-12,3A5.31,5.31,0,0,0,4.9,8.1,5.31,5.31,0,0,0,1,6.5,5.31,5.31,0,0,0,4.9,4.9,5.31,5.31,0,0,0,6.5,1,5.31,5.31,0,0,0,8.1,4.9,5.31,5.31,0,0,0,12,6.5,5.46,5.46,0,0,0,6.5,12Z\"/>\n",
              "  </svg>\n",
              "    </button>\n",
              "    <script>\n",
              "      (() => {\n",
              "      const buttonEl =\n",
              "        document.querySelector('#id_76338f66-9a46-4593-a525-24c9275f5438 button.colab-df-generate');\n",
              "      buttonEl.style.display =\n",
              "        google.colab.kernel.accessAllowed ? 'block' : 'none';\n",
              "\n",
              "      buttonEl.onclick = () => {\n",
              "        google.colab.notebook.generateWithVariable('df');\n",
              "      }\n",
              "      })();\n",
              "    </script>\n",
              "  </div>\n",
              "\n",
              "    </div>\n",
              "  </div>\n"
            ]
          },
          "metadata": {},
          "execution_count": 5
        }
      ],
      "source": [
        "df # AS STATED ABOVE, YOU MAY REMOVE THIS AND THE ABOVE BLOCKS OF CODE IF YOU LIKE, THIS WILL HAVE NO"
      ],
      "id": "c4345daf"
    },
    {
      "cell_type": "code",
      "execution_count": 6,
      "metadata": {
        "colab": {
          "base_uri": "https://localhost:8080/"
        },
        "id": "3eb86201",
        "outputId": "3a94b622-1083-4594-fe9d-f6a9025723a2"
      },
      "outputs": [
        {
          "output_type": "execute_result",
          "data": {
            "text/plain": [
              "(80934, 6)"
            ]
          },
          "metadata": {},
          "execution_count": 6
        }
      ],
      "source": [
        "x.shape ### IN THE FOLLOWING PARTS OF THE CODE, MAKE SURE THAT EVERYTING IS LOADED CORRECTLY, YOU SHOULD HAVE A DATASET WITH 22 CLASSES, (n-rows, 6 columns, later another dimension will be added here)"
      ],
      "id": "3eb86201"
    },
    {
      "cell_type": "code",
      "execution_count": 7,
      "metadata": {
        "colab": {
          "base_uri": "https://localhost:8080/"
        },
        "id": "6b640bf8",
        "outputId": "e95a883d-6a3d-467b-ab8f-72587f084bd7"
      },
      "outputs": [
        {
          "output_type": "execute_result",
          "data": {
            "text/plain": [
              "(80934,)"
            ]
          },
          "metadata": {},
          "execution_count": 7
        }
      ],
      "source": [
        "y.shape"
      ],
      "id": "6b640bf8"
    },
    {
      "cell_type": "code",
      "execution_count": 8,
      "metadata": {
        "colab": {
          "base_uri": "https://localhost:8080/"
        },
        "id": "9650592c",
        "outputId": "ab9860cb-2525-4686-8d1c-63db1aaf9e42"
      },
      "outputs": [
        {
          "output_type": "execute_result",
          "data": {
            "text/plain": [
              "array([ 0,  1,  2,  3,  4,  5,  6,  7,  8,  9, 10, 11, 12, 13, 14, 15, 16,\n",
              "       17, 18, 19, 20, 21])"
            ]
          },
          "metadata": {},
          "execution_count": 8
        }
      ],
      "source": [
        "np.unique(y)"
      ],
      "id": "9650592c"
    },
    {
      "cell_type": "code",
      "execution_count": 9,
      "metadata": {
        "colab": {
          "base_uri": "https://localhost:8080/"
        },
        "id": "0edc69b6",
        "outputId": "91f0c025-18fe-458b-eb7a-d30c9d3f888c"
      },
      "outputs": [
        {
          "output_type": "execute_result",
          "data": {
            "text/plain": [
              "array([66.893059, 28.993618, 36.08424 ,  0.515831,  1.269838, -0.100013])"
            ]
          },
          "metadata": {},
          "execution_count": 9
        }
      ],
      "source": [
        "x[0]"
      ],
      "id": "0edc69b6"
    },
    {
      "cell_type": "code",
      "execution_count": 10,
      "metadata": {
        "colab": {
          "base_uri": "https://localhost:8080/"
        },
        "id": "b4eec323",
        "outputId": "72ab9126-775f-40fe-d869-deab9f311d4e"
      },
      "outputs": [
        {
          "output_type": "execute_result",
          "data": {
            "text/plain": [
              "0"
            ]
          },
          "metadata": {},
          "execution_count": 10
        }
      ],
      "source": [
        "y[0] # these were sample rows from the data for your to inspect, you should see a 6 by 1 vector above and a single value here"
      ],
      "id": "b4eec323"
    },
    {
      "cell_type": "code",
      "execution_count": 11,
      "metadata": {
        "id": "9db6440b"
      },
      "outputs": [],
      "source": [
        "# Split the data into training, validation, and testing sets\n",
        "x_train, x_test, y_train, y_test = train_test_split(x, y, test_size=0.1, random_state=42)\n",
        "x_train, x_val, y_train, y_val = train_test_split(x_train, y_train, test_size=0.2, random_state=42)"
      ],
      "id": "9db6440b"
    },
    {
      "cell_type": "code",
      "execution_count": 12,
      "metadata": {
        "id": "0b135163"
      },
      "outputs": [],
      "source": [
        "# Reshape the data\n",
        "x_train = x_train.reshape((x_train.shape[0], x_train.shape[1], 1))\n",
        "x_val = x_val.reshape((x_val.shape[0], x_val.shape[1], 1))\n",
        "x_test = x_test.reshape((x_test.shape[0], x_test.shape[1], 1))"
      ],
      "id": "0b135163"
    },
    {
      "cell_type": "code",
      "execution_count": 13,
      "metadata": {
        "id": "936243fe"
      },
      "outputs": [],
      "source": [
        "# Determine the input shape and number of classes\n",
        "input_shape = (x_train.shape[1], 1)\n",
        "num_classes = len(np.unique(y))"
      ],
      "id": "936243fe"
    },
    {
      "cell_type": "code",
      "execution_count": 14,
      "metadata": {
        "colab": {
          "base_uri": "https://localhost:8080/"
        },
        "id": "4cb2989e",
        "outputId": "e47cc87e-dacb-4b94-e821-30efae5b75a2"
      },
      "outputs": [
        {
          "output_type": "execute_result",
          "data": {
            "text/plain": [
              "22"
            ]
          },
          "metadata": {},
          "execution_count": 14
        }
      ],
      "source": [
        "num_classes # must have 22"
      ],
      "id": "4cb2989e"
    },
    {
      "cell_type": "code",
      "execution_count": 15,
      "metadata": {
        "colab": {
          "base_uri": "https://localhost:8080/"
        },
        "id": "26c6890e",
        "outputId": "062699f2-4a62-4aa5-9345-44a799d24d0b"
      },
      "outputs": [
        {
          "output_type": "execute_result",
          "data": {
            "text/plain": [
              "(6, 1)"
            ]
          },
          "metadata": {},
          "execution_count": 15
        }
      ],
      "source": [
        "input_shape"
      ],
      "id": "26c6890e"
    },
    {
      "cell_type": "code",
      "execution_count": 16,
      "metadata": {
        "colab": {
          "base_uri": "https://localhost:8080/"
        },
        "id": "859aa647",
        "outputId": "94f2d254-4381-44f0-8bd4-c80f83da27ab"
      },
      "outputs": [
        {
          "output_type": "execute_result",
          "data": {
            "text/plain": [
              "(58272, 6, 1)"
            ]
          },
          "metadata": {},
          "execution_count": 16
        }
      ],
      "source": [
        "x_train.shape"
      ],
      "id": "859aa647"
    },
    {
      "cell_type": "code",
      "execution_count": 17,
      "metadata": {
        "colab": {
          "base_uri": "https://localhost:8080/"
        },
        "id": "eab565dd",
        "outputId": "28b00bea-6da7-48f7-86f3-6f869b8a4601"
      },
      "outputs": [
        {
          "output_type": "execute_result",
          "data": {
            "text/plain": [
              "(58272,)"
            ]
          },
          "metadata": {},
          "execution_count": 17
        }
      ],
      "source": [
        "y_train.shape"
      ],
      "id": "eab565dd"
    },
    {
      "cell_type": "code",
      "execution_count": 18,
      "metadata": {
        "colab": {
          "base_uri": "https://localhost:8080/"
        },
        "id": "ab950213",
        "outputId": "da2524e0-e87d-481d-b619-967224a21d80"
      },
      "outputs": [
        {
          "output_type": "execute_result",
          "data": {
            "text/plain": [
              "array([[ 74.359993],\n",
              "       [-11.280581],\n",
              "       [ 23.950281],\n",
              "       [  0.277999],\n",
              "       [  1.481088],\n",
              "       [ -0.233813]])"
            ]
          },
          "metadata": {},
          "execution_count": 18
        }
      ],
      "source": [
        "x_train[0]"
      ],
      "id": "ab950213"
    },
    {
      "cell_type": "code",
      "execution_count": 19,
      "metadata": {
        "colab": {
          "base_uri": "https://localhost:8080/"
        },
        "id": "7f11432f",
        "outputId": "e88fe32f-912f-4038-8bc8-bb1080d8cce3"
      },
      "outputs": [
        {
          "output_type": "execute_result",
          "data": {
            "text/plain": [
              "11"
            ]
          },
          "metadata": {},
          "execution_count": 19
        }
      ],
      "source": [
        "y_train[0]"
      ],
      "id": "7f11432f"
    },
    {
      "cell_type": "code",
      "execution_count": 20,
      "metadata": {
        "id": "cd51204b"
      },
      "outputs": [],
      "source": [
        "# Transformer Encoder function with dropout and L2 regularization\n",
        "def transformer_encoder(inputs, head_size, num_heads, ff_dim, dropout=0.1, l2_reg=0.01):\n",
        "\n",
        "    x = layers.MultiHeadAttention(key_dim=head_size, num_heads=num_heads, dropout=dropout)(inputs, inputs)\n",
        "    x = layers.Dropout(dropout)(x)\n",
        "    x = layers.LayerNormalization(epsilon=1e-6)(x)\n",
        "    res = x + inputs\n",
        "\n",
        "    # Feed-forward network with dropout and L2 regularization\n",
        "    x = layers.Dense(ff_dim, activation=\"relu\", kernel_regularizer=keras.regularizers.l2(l2_reg))(res)\n",
        "    x = layers.Dropout(dropout)(x)\n",
        "\n",
        "    x = layers.Dense(ff_dim, activation=\"relu\", kernel_regularizer=keras.regularizers.l2(l2_reg))(x)\n",
        "    x = layers.Dropout(dropout)(x)\n",
        "\n",
        "    x = layers.Dense(ff_dim, activation=\"relu\", kernel_regularizer=keras.regularizers.l2(l2_reg))(x)\n",
        "    x = layers.Dropout(dropout)(x)\n",
        "\n",
        "    x = layers.Dense(inputs.shape[-1], activation = 'softmax')(x)\n",
        "    x = layers.LayerNormalization(epsilon=1e-6)(x)\n",
        "\n",
        "    return x + res"
      ],
      "id": "cd51204b"
    },
    {
      "cell_type": "code",
      "execution_count": 21,
      "metadata": {
        "id": "9df843aa"
      },
      "outputs": [],
      "source": [
        "# Transformer Decoder function\n",
        "def transformer_decoder(inputs, enc_outputs, head_size, num_heads, ff_dim, dropout=0.1, l2_reg=0.01):\n",
        "    x = layers.MultiHeadAttention(key_dim=head_size, num_heads=num_heads, dropout=dropout)(inputs, inputs)\n",
        "    x = layers.Dropout(dropout)(x)\n",
        "    x = layers.LayerNormalization(epsilon=1e-6)(x)\n",
        "    res = x + inputs\n",
        "\n",
        "    x = layers.MultiHeadAttention(key_dim=head_size, num_heads=num_heads, dropout=dropout)(res, enc_outputs)\n",
        "    x = layers.Dropout(dropout)(x)\n",
        "    x = layers.LayerNormalization(epsilon=1e-6)(x)\n",
        "    x = x + res\n",
        "\n",
        "    # Feed-forward network\n",
        "    x = layers.Dense(ff_dim, activation=\"relu\", kernel_regularizer=keras.regularizers.l2(l2_reg))(x)\n",
        "    x = layers.Dropout(dropout)(x)\n",
        "\n",
        "    x = layers.Dense(ff_dim, activation=\"relu\", kernel_regularizer=keras.regularizers.l2(l2_reg))(x)\n",
        "    x = layers.Dropout(dropout)(x)\n",
        "\n",
        "    '''\n",
        "    YOU MAY WANT TO ADD OR REMOVE THESE TWO LINES HERE PRECISELY IN THIS PART OF THE CODE, PAY ATTENTION TO THE INDENTATION, PYTHON REQUIRES CONSISTENCY IN ORDER FOR THE CODE TO RUN CORRECTLY\n",
        "    x = layers.Dense(ff_dim, activation=\"relu\", kernel_regularizer=keras.regularizers.l2(l2_reg))(x)\n",
        "    x = layers.Dropout(dropout)(x)\n",
        "\n",
        "    '''\n",
        "\n",
        "    x = layers.Dense(ff_dim, activation=\"relu\", kernel_regularizer=keras.regularizers.l2(l2_reg))(x)\n",
        "    x = layers.Dropout(dropout)(x)\n",
        "\n",
        "    x = layers.Dense(inputs.shape[-1], activation = 'softmax')(x)\n",
        "    x = layers.LayerNormalization(epsilon=1e-6)(x)\n",
        "\n",
        "    return x + res\n"
      ],
      "id": "9df843aa"
    },
    {
      "cell_type": "code",
      "execution_count": 22,
      "metadata": {
        "id": "d9851305"
      },
      "outputs": [],
      "source": [
        "# Build the model\n",
        "def build_model(input_shape, head_size, num_heads, ff_dim, num_transformer_blocks, mlp_units, dropout=0, mlp_dropout=0, l2_reg=0):\n",
        "    inputs = keras.Input(shape=input_shape)\n",
        "    x = inputs\n",
        "\n",
        "    # Encoder\n",
        "    for _ in range(num_transformer_blocks):\n",
        "        x = transformer_encoder(x, head_size, num_heads, ff_dim, dropout, l2_reg)\n",
        "\n",
        "\n",
        "    # Decoder\n",
        "    decoder_input = keras.Input(shape=input_shape)\n",
        "    dec = decoder_input\n",
        "    for _ in range(num_transformer_blocks):\n",
        "        dec = transformer_decoder(dec, x, head_size, num_heads, ff_dim, dropout, l2_reg)\n",
        "\n",
        "    x = layers.Flatten()(x)\n",
        "    dec = layers.Flatten()(dec)\n",
        "    x = layers.Concatenate()([x, dec])\n",
        "\n",
        "    for dim in mlp_units:\n",
        "        x = layers.Dense(dim, activation=\"relu\")(x)\n",
        "        x = layers.Dropout(mlp_dropout)(x)\n",
        "\n",
        "    outputs = layers.Dense(num_classes, activation=\"softmax\")(x)\n",
        "\n",
        "    model = keras.Model([inputs, decoder_input], outputs)\n",
        "    return model"
      ],
      "id": "d9851305"
    },
    {
      "cell_type": "code",
      "execution_count": 23,
      "metadata": {
        "id": "1d648db6"
      },
      "outputs": [],
      "source": [
        "# Define the hyperparameters\n",
        "\"\"\"\n",
        "# THIS IS THE PART YOU SHOULD PLAY AROUND WITH\n",
        "# YOU MAY REDUCE THESE NUMBERS IF YOUR MACHINE IS OTHERWISE INCAPABLE OF RUNNING THE CODE\"\"\"\n",
        "\n",
        "head_size = 4\n",
        "num_heads = 4\n",
        "ff_dim = 256\n",
        "num_transformer_blocks = 4\n",
        "mlp_units = [256]\n",
        "dropout = 0.1\n",
        "mlp_dropout = 0.1\n",
        "initial_lr = 0.001\n",
        "l2_reg=0.01"
      ],
      "id": "1d648db6"
    },
    {
      "cell_type": "code",
      "execution_count": 24,
      "metadata": {
        "id": "6c794103"
      },
      "outputs": [],
      "source": [
        "# Build the model\n",
        "model = build_model(input_shape, head_size, num_heads, ff_dim, num_transformer_blocks, mlp_units, dropout, mlp_dropout)"
      ],
      "id": "6c794103"
    },
    {
      "cell_type": "code",
      "execution_count": 25,
      "metadata": {
        "id": "64e4c3ef"
      },
      "outputs": [],
      "source": [
        "# Create the optimizer with the initial learning rate\n",
        "optimizer = Adam(learning_rate=initial_lr)"
      ],
      "id": "64e4c3ef"
    },
    {
      "cell_type": "code",
      "execution_count": 26,
      "metadata": {
        "id": "0e19e795"
      },
      "outputs": [],
      "source": [
        "# Compile the model\n",
        "model.compile(optimizer=optimizer, loss=\"sparse_categorical_crossentropy\", metrics=[\"accuracy\"])"
      ],
      "id": "0e19e795"
    },
    {
      "cell_type": "code",
      "execution_count": 27,
      "metadata": {
        "id": "02a51f0f"
      },
      "outputs": [],
      "source": [
        "# Create the ReduceLROnPlateau callback\n",
        "lr_callback = ReduceLROnPlateau(factor=0.1, patience=50)"
      ],
      "id": "02a51f0f"
    },
    {
      "cell_type": "code",
      "execution_count": 28,
      "metadata": {
        "id": "511f6219"
      },
      "outputs": [],
      "source": [
        "# Record the start time\n",
        "start_time = time.time()"
      ],
      "id": "511f6219"
    },
    {
      "cell_type": "code",
      "execution_count": 31,
      "metadata": {
        "colab": {
          "base_uri": "https://localhost:8080/"
        },
        "id": "19d80153",
        "outputId": "f1acce51-d0c9-4ff3-acd6-467dc5613a26"
      },
      "outputs": [
        {
          "output_type": "stream",
          "name": "stdout",
          "text": [
            "911/911 [==============================] - 130s 143ms/step - loss: 0.1323 - accuracy: 0.9609 - val_loss: 0.1582 - val_accuracy: 0.9429 - lr: 0.0010\n"
          ]
        },
        {
          "output_type": "execute_result",
          "data": {
            "text/plain": [
              "<keras.src.callbacks.History at 0x7e6cc87f2a70>"
            ]
          },
          "metadata": {},
          "execution_count": 31
        }
      ],
      "source": [
        "model.fit([x_train, x_train], y_train,\n",
        "          batch_size=64,\n",
        "          epochs=1,\n",
        "          validation_data=([x_val, x_val], y_val),\n",
        "          callbacks=[lr_callback])"
      ],
      "id": "19d80153"
    },
    {
      "cell_type": "code",
      "execution_count": 32,
      "metadata": {
        "id": "3ffe7d0c"
      },
      "outputs": [],
      "source": [
        "# Record the end time\n",
        "end_time = time.time()"
      ],
      "id": "3ffe7d0c"
    },
    {
      "cell_type": "code",
      "execution_count": 33,
      "metadata": {
        "id": "e8dd9c65",
        "colab": {
          "base_uri": "https://localhost:8080/"
        },
        "outputId": "5f3808a2-06c4-4bf9-8ab5-c48a17092fd8"
      },
      "outputs": [
        {
          "output_type": "stream",
          "name": "stdout",
          "text": [
            "Total Running Time: 1196.46 seconds\n"
          ]
        }
      ],
      "source": [
        "# Calculate the total running time\n",
        "running_time = end_time - start_time\n",
        "print(\"Total Running Time: {:.2f} seconds\".format(running_time))"
      ],
      "id": "e8dd9c65"
    },
    {
      "cell_type": "code",
      "execution_count": 34,
      "metadata": {
        "id": "23ebca14",
        "colab": {
          "base_uri": "https://localhost:8080/"
        },
        "outputId": "4a0d43f1-14d2-47ab-db08-82d33bf814ac"
      },
      "outputs": [
        {
          "output_type": "stream",
          "name": "stdout",
          "text": [
            "253/253 [==============================] - 7s 26ms/step - loss: 0.1718 - accuracy: 0.9369\n",
            "Test loss: 0.17180153727531433, Test accuracy: 0.936866819858551\n"
          ]
        }
      ],
      "source": [
        "# Evaluate the model\n",
        "loss, accuracy = model.evaluate([x_test, x_test], y_test)\n",
        "print(f\"Test loss: {loss}, Test accuracy: {accuracy}\")"
      ],
      "id": "23ebca14"
    },
    {
      "cell_type": "code",
      "source": [
        "# Evaluate the model\n",
        "y_pred = model.predict([x_test, x_test])\n",
        "y_pred = np.argmax(y_pred, axis=1)  # Convert probabilities to class labels"
      ],
      "metadata": {
        "colab": {
          "base_uri": "https://localhost:8080/"
        },
        "id": "4LoQ7jpzdTh8",
        "outputId": "9d4fec1e-689c-4f1b-9b18-2c827ea5b473"
      },
      "id": "4LoQ7jpzdTh8",
      "execution_count": 35,
      "outputs": [
        {
          "output_type": "stream",
          "name": "stdout",
          "text": [
            "253/253 [==============================] - 8s 23ms/step\n"
          ]
        }
      ]
    },
    {
      "cell_type": "code",
      "source": [
        "# Generate the confusion matrix\n",
        "cm = confusion_matrix(y_test, y_pred)"
      ],
      "metadata": {
        "id": "acsMja9LdMOS"
      },
      "id": "acsMja9LdMOS",
      "execution_count": 36,
      "outputs": []
    },
    {
      "cell_type": "code",
      "source": [
        "# Plot the confusion matrix\n",
        "class_names = np.unique(y)\n",
        "fig, ax = plt.subplots(figsize=(8, 6))\n",
        "sns.heatmap(cm, annot=True, fmt=\"d\", cmap=\"Blues\", xticklabels=class_names, yticklabels=class_names, ax=ax)\n",
        "ax.set_xlabel('Predicted')\n",
        "ax.set_ylabel('Actual')\n",
        "plt.show()"
      ],
      "metadata": {
        "id": "Cpuk5i3RSZ9j",
        "colab": {
          "base_uri": "https://localhost:8080/",
          "height": 542
        },
        "outputId": "ce4dab54-9834-4a63-ca10-ca5bcb2c7bec"
      },
      "id": "Cpuk5i3RSZ9j",
      "execution_count": 37,
      "outputs": [
        {
          "output_type": "display_data",
          "data": {
            "text/plain": [
              "<Figure size 800x600 with 2 Axes>"
            ],
            "image/png": "[encoded data removed]"
          },
          "metadata": {}
        }
      ]
    },
    {
      "cell_type": "code",
      "execution_count": 38,
      "metadata": {
        "id": "78f8e19d",
        "colab": {
          "base_uri": "https://localhost:8080/"
        },
        "outputId": "3aa918f1-5e95-4f4c-f39f-c933473b3ff9"
      },
      "outputs": [
        {
          "output_type": "stream",
          "name": "stderr",
          "text": [
            "/usr/local/lib/python3.10/dist-packages/keras/src/engine/training.py:3103: UserWarning: You are saving your model as an HDF5 file via `model.save()`. This file format is considered legacy. We recommend using instead the native Keras format, e.g. `model.save('my_model.keras')`.\n",
            "  saving_api.save_model(\n"
          ]
        }
      ],
      "source": [
        "# Save the trained model\n",
        "model.save(\"my_model.h5\")"
      ],
      "id": "78f8e19d"
    }
  ],
  "metadata": {
    "colab": {
      "provenance": [],
      "include_colab_link": true
    },
    "kernelspec": {
      "display_name": "Python 3",
      "name": "python3"
    },
    "language_info": {
      "codemirror_mode": {
        "name": "ipython",
        "version": 3
      },
      "file_extension": ".py",
      "mimetype": "text/x-python",
      "name": "python",
      "nbconvert_exporter": "python",
      "pygments_lexer": "ipython3",
      "version": "3.10.7"
    }
  },
  "nbformat": 4,
  "nbformat_minor": 5
}